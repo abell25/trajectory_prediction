{
 "cells": [
  {
   "cell_type": "code",
   "execution_count": 389,
   "metadata": {
    "collapsed": true
   },
   "outputs": [],
   "source": [
    "# Ideas to try\n",
    "# [ ] Create a coords database\n",
    "#    [ ] use knn\n",
    "#    [ ] coords -> SequenceId, remainingTripLength\n",
    "#        [ ] average the times from each of the trips wrt to remaining trip length\n",
    "#        per_coord_distances = zeros(k)\n",
    "#        for c_i in coords c_1..c_k,\n",
    "#            distances = []\n",
    "#            for seq in D[c_i]:\n",
    "#                remaining_trip = coords_df[seq.SequenceId][seq.Index:end]\n",
    "#                push!(length(distances))\n",
    "#            per_coord_distances = average(distances)    \n",
    "#        return averaging of per_coord_distances\n",
    "#        [ ] use 2/3/n-gram coords for distances\n",
    "#\n",
    "#\n",
    "#"
   ]
  },
  {
   "cell_type": "code",
   "execution_count": 2,
   "metadata": {
    "collapsed": false
   },
   "outputs": [
    {
     "data": {
      "text/plain": [
       "8"
      ]
     },
     "execution_count": 2,
     "metadata": {},
     "output_type": "execute_result"
    }
   ],
   "source": [
    "using DataFrames\n",
    "using JSON\n",
    "using Iterators\n",
    "using taxis\n",
    "using HDF5, JLD\n",
    "#reload(\"taxis\")\n",
    "\n",
    "nprocs()"
   ]
  },
  {
   "cell_type": "code",
   "execution_count": 3,
   "metadata": {
    "collapsed": false,
    "scrolled": true
   },
   "outputs": [
    {
     "name": "stdout",
     "output_type": "stream",
     "text": [
      "Begin\n",
      "loading csv files\n",
      "loading coords\n",
      "getting coords counts\n",
      "done!\n"
     ]
    }
   ],
   "source": [
    "println(\"Begin\")\n",
    "\n",
    "println(\"loading csv files\")\n",
    "taxi_df = readtable(\"/home/tony/ML/taxi/taxi2_time/train_200k.csv\")\n",
    "taxi_validation_df = readtable(\"/home/tony/ML/taxi/taxi2_time/test.csv\")\n",
    "\n",
    "println(\"loading coords\")\n",
    "taxi_df[:COORDS] = [float(hcat(JSON.parse(x)...)) for x in  taxi_df[:POLYLINE]]\n",
    "taxi_validation_df[:COORDS] = [float(hcat(JSON.parse(x)...)) for x in taxi_validation_df[:POLYLINE]]\n",
    "\n",
    "println(\"getting coords counts\")\n",
    "taxi_df[:NUM_COORDS] = [length(x)::Int64 for x in taxi_df[:COORDS]]\n",
    "taxi_validation_df[:NUM_COORDS] = [length(x)::Int64 for x in taxi_validation_df[:COORDS]]\n",
    "\n",
    "delete!(taxi_validation_df, :POLYLINE)\n",
    "delete!(taxi_df, :POLYLINE)\n",
    "\n",
    "println(\"done!\")"
   ]
  },
  {
   "cell_type": "code",
   "execution_count": 4,
   "metadata": {
    "collapsed": false
   },
   "outputs": [
    {
     "name": "stdout",
     "output_type": "stream",
     "text": [
      "TRIP_ID\n",
      "Min      1.3726368536200003e18\n",
      "1st Qu.  1.3735286041200005e18\n",
      "Median   1.3744274916200003e18\n",
      "Mean     1.374470565520865e18\n",
      "3rd Qu.  1.3754004771200005e18\n",
      "Max      1.3764333326200008e18\n",
      "NAs      0\n",
      "NA%      0.0%\n",
      "\n",
      "CALL_TYPE\n",
      "Length  199999\n",
      "Type    UTF8String\n",
      "NAs     0\n",
      "NA%     0.0%\n",
      "Unique  3\n",
      "\n",
      "ORIGIN_CALL\n",
      "Min      2001.0\n",
      "1st Qu.  5568.0\n",
      "Median   17320.0\n",
      "Mean     23532.490181765093\n",
      "3rd Qu.  39488.0\n",
      "Max      63882.0\n",
      "NAs      158902\n",
      "NA%      79.45%\n",
      "\n",
      "ORIGIN_STAND\n",
      "Min      1.0\n",
      "1st Qu.  15.0\n",
      "Median   26.0\n",
      "Mean     30.249708435920695\n",
      "3rd Qu.  49.0\n",
      "Max      63.0\n",
      "NAs      99678\n",
      "NA%      49.84%\n",
      "\n",
      "TAXI_ID\n",
      "Min      2.0000001e7\n",
      "1st Qu.  2.0000171e7\n",
      "Median   2.0000347e7\n",
      "Mean     2.000035240828704e7\n",
      "3rd Qu.  2.0000523e7\n",
      "Max      2.0000981e7\n",
      "NAs      0\n",
      "NA%      0.0%\n",
      "\n",
      "TIMESTAMP\n",
      "Min      1.372636853e9\n",
      "1st Qu.  1.3735286035e9\n",
      "Median   1.374427491e9\n",
      "Mean     1.3744705649008646e9\n",
      "3rd Qu.  1.3754004765e9\n",
      "Max      1.376433332e9\n",
      "NAs      0\n",
      "NA%      0.0%\n",
      "\n",
      "DAY_TYPE\n",
      "Length  199999\n",
      "Type    UTF8String\n",
      "NAs     0\n",
      "NA%     0.0%\n",
      "Unique  1\n",
      "\n",
      "MISSING_DATA\n",
      "Length  199999\n",
      "Type    UTF8String\n",
      "NAs     0\n",
      "NA%     0.0%\n",
      "Unique  2\n",
      "\n",
      "COORDS\n",
      "Length  199999\n",
      "Type    Any\n",
      "NAs     0\n",
      "NA%     0.0%\n",
      "Unique  199207\n",
      "\n",
      "NUM_COORDS\n",
      "Min      0.0\n",
      "1st Qu.  54.0\n",
      "Median   80.0\n",
      "Mean     94.47731238656193\n",
      "3rd Qu.  112.0\n",
      "Max      7142.0\n",
      "NAs      0\n",
      "NA%      0.0%\n",
      "\n"
     ]
    }
   ],
   "source": [
    "describe(taxi_df)"
   ]
  },
  {
   "cell_type": "code",
   "execution_count": 5,
   "metadata": {
    "collapsed": false
   },
   "outputs": [
    {
     "data": {
      "text/html": [
       "<table class=\"data-frame\"><tr><th></th><th>TRIP_ID</th><th>CALL_TYPE</th><th>ORIGIN_CALL</th><th>ORIGIN_STAND</th><th>TAXI_ID</th><th>TIMESTAMP</th><th>DAY_TYPE</th><th>MISSING_DATA</th><th>COORDS</th><th>NUM_COORDS</th></tr><tr><th>1</th><td>T1</td><td>B</td><td>NA</td><td>15</td><td>20000542</td><td>1408039037</td><td>A</td><td>False</td><td>[-8.585676 -8.585712 -8.585685 -8.58573 -8.585982 -8.586396 -8.586072 -8.586324 -8.586999 -8.586576 -8.584884\n",
       " 41.148522 41.148639 41.148855 41.148927 41.148963 41.148954 41.14872 41.147847 41.14746 41.147154 41.146623]</td><td>22</td></tr><tr><th>2</th><td>T2</td><td>B</td><td>NA</td><td>57</td><td>20000108</td><td>1408038611</td><td>A</td><td>False</td><td>[-8.610876 -8.610858 -8.610903 -8.610444 -8.609445 -8.608896 -8.608968 -8.608707 -8.608347 -8.608149 -8.608041 -8.607654 -8.607348 -8.607393 -8.607357 -8.606817 -8.606358 -8.605719 -8.604981 -8.604783 -8.604828 -8.604801 -8.604648 -8.604522 -8.604513 -8.604378 -8.604378 -8.604369 -8.60436 -8.604162 -8.604126 -8.60409 -8.60409 -8.604108 -8.604126 -8.604135 -8.60391 -8.602929 -8.602551 -8.601894\n",
       " 41.14557 41.145579 41.145768 41.146191 41.146758 41.147118 41.147127 41.147532 41.148117 41.148351 41.148576 41.14926 41.149899 41.149899 41.149962 41.150979 41.151915 41.152788 41.153319 41.154345 41.154372 41.155353 41.156775 41.158197 41.159943 41.160555 41.1606 41.160645 41.160807 41.161176 41.161248 41.161293 41.161266 41.161239 41.161194 41.161275 41.162049 41.162832 41.163111 41.163597]</td><td>80</td></tr><tr><th>3</th><td>T3</td><td>B</td><td>NA</td><td>15</td><td>20000370</td><td>1408038568</td><td>A</td><td>False</td><td>[-8.585739 -8.58573 -8.585721 -8.586288 -8.586117 -8.586198 -8.586279 -8.587152 -8.585685 -8.584281 -8.583075 -8.581365 -8.579511 -8.579349 -8.579232 -8.5797 -8.578728 -8.580024 -8.581518 -8.582022 -8.582409 -8.582679 -8.582895 -8.582985 -8.582949 -8.582742 -8.582508 -8.582346 -8.58213 -8.5815 -8.580978 -8.580411 -8.579871 -8.578791 -8.577621 -8.577513 -8.577342 -8.576946 -8.575902 -8.574903\n",
       " 41.148558 41.148828 41.148972 41.149017 41.148567 41.148315 41.147919 41.147325 41.146839 41.1462 41.145111 41.14485 41.145651 41.145858 41.146308 41.147847 41.150241 41.152077 41.153292 41.153832 41.15439 41.154903 41.155578 41.156487 41.156991 41.157774 41.158386 41.158773 41.159295 41.160816 41.162715 41.163966 41.164038 41.164767 41.165361 41.165415 41.165739 41.166441 41.167233 41.167719]</td><td>80</td></tr><tr><th>4</th><td>T4</td><td>B</td><td>NA</td><td>53</td><td>20000492</td><td>1408039090</td><td>A</td><td>False</td><td>[-8.613963 -8.614125 -8.615088 -8.615277 -8.615259 -8.615241 -8.615052 -8.614638\n",
       " 41.141169 41.141124 41.140926 41.140818 41.140809 41.1408 41.140818 41.14098]</td><td>16</td></tr><tr><th>5</th><td>T5</td><td>B</td><td>NA</td><td>18</td><td>20000621</td><td>1408039177</td><td>A</td><td>False</td><td>[-8.619903 -8.619894\n",
       " 41.148036 41.148036]</td><td>4</td></tr><tr><th>6</th><td>T6</td><td>A</td><td>42612</td><td>NA</td><td>20000607</td><td>1408037146</td><td>A</td><td>False</td><td>[-8.630613 -8.630613 -8.630739 -8.631513 -8.631306 -8.630028 -8.629425 -8.629173 -8.629056 -8.62866 -8.627958 -8.627967 -8.627985 -8.627778 -8.627157 -8.626275 -8.626221 -8.626419 -8.626419 -8.626428 -8.626428 -8.626419 -8.62641 -8.626401 -8.62641 -8.62641 -8.626419 -8.626419 -8.626419 -8.626419 -8.626437 -8.626446 -8.626446 -8.626446 -8.626437 -8.626428 -8.626437 -8.626437 -8.626437 -8.626428 -8.626428 -8.626437 -8.626446 -8.626446 -8.626446 -8.626437 -8.626437 -8.626446 -8.626446 -8.626446 -8.626446 -8.626446 -8.626446 -8.626437 -8.626446 -8.626455 -8.626464 -8.626464 -8.626464 -8.626464 -8.626455 -8.626455 -8.626446 -8.626446 -8.626437 -8.626437 -8.626437 -8.626446 -8.626455 -8.626464 -8.626464 -8.626464 -8.626455 -8.626455 -8.626446 -8.626446 -8.626437 -8.626437 -8.626446 -8.626446 -8.626446 -8.626455 -8.626464 -8.626464 -8.626464 -8.626473 -8.626473 -8.626464 -8.626464 -8.626455 -8.626455 -8.626455 -8.626455 -8.626446 -8.626437 -8.626437 -8.626437 -8.626446 -8.626446 -8.626446 -8.626446 -8.626455 -8.626455 -8.626464 -8.626473 -8.626473 -8.626473 -8.626509 -8.626689 -8.626698 -8.62668 -8.626662 -8.626878 -8.626842 -8.626833 -8.626842 -8.626842 -8.626851 -8.626842 -8.626833 -8.626824 -8.626779 -8.626509 -8.626455 -8.626455 -8.626455 -8.626428 -8.62641 -8.62641 -8.626419 -8.626419 -8.626428 -8.626419 -8.626401 -8.626392 -8.626401 -8.62641\n",
       " 41.178249 41.178249 41.178231 41.178141 41.178114 41.177889 41.177817 41.17797 41.178042 41.177394 41.176152 41.176125 41.176107 41.175684 41.174127 41.172588 41.171922 41.171895 41.171904 41.171913 41.171913 41.171913 41.171922 41.171922 41.171931 41.171931 41.171931 41.171922 41.171922 41.171913 41.171913 41.171922 41.171913 41.171913 41.171913 41.171913 41.171913 41.171904 41.171904 41.171913 41.171904 41.171895 41.171895 41.171886 41.171886 41.171886 41.171877 41.171877 41.171895 41.171895 41.171895 41.171913 41.171913 41.171922 41.171922 41.171931 41.171922 41.171922 41.171931 41.171922 41.171922 41.171922 41.171931 41.171922 41.171922 41.171913 41.171913 41.171913 41.171913 41.171913 41.171913 41.171904 41.171904 41.171904 41.171913 41.171913 41.171922 41.171922 41.171922 41.171913 41.171904 41.171904 41.171895 41.171895 41.171895 41.171895 41.171895 41.171904 41.171913 41.171913 41.171913 41.171913 41.171904 41.171904 41.171913 41.171922 41.171922 41.171931 41.171931 41.17194 41.171949 41.171949 41.171949 41.17194 41.171931 41.171931 41.171931 41.171931 41.171895 41.171895 41.171868 41.171859 41.171886 41.171859 41.171886 41.171904 41.171904 41.171904 41.171904 41.171904 41.171859 41.171832 41.171886 41.171904 41.171904 41.171904 41.171913 41.171922 41.171922 41.171913 41.171913 41.171913 41.171922 41.17194 41.171958 41.171967 41.171958]</td><td>274</td></tr></table>"
      ],
      "text/plain": [
       "6x10 DataFrame\n",
       "| Row | TRIP_ID | CALL_TYPE | ORIGIN_CALL | ORIGIN_STAND | TAXI_ID  |\n",
       "|-----|---------|-----------|-------------|--------------|----------|\n",
       "| 1   | \"T1\"    | \"B\"       | NA          | 15           | 20000542 |\n",
       "| 2   | \"T2\"    | \"B\"       | NA          | 57           | 20000108 |\n",
       "| 3   | \"T3\"    | \"B\"       | NA          | 15           | 20000370 |\n",
       "| 4   | \"T4\"    | \"B\"       | NA          | 53           | 20000492 |\n",
       "| 5   | \"T5\"    | \"B\"       | NA          | 18           | 20000621 |\n",
       "| 6   | \"T6\"    | \"A\"       | 42612       | NA           | 20000607 |\n",
       "\n",
       "| Row | TIMESTAMP  | DAY_TYPE | MISSING_DATA |\n",
       "|-----|------------|----------|--------------|\n",
       "| 1   | 1408039037 | \"A\"      | \"False\"      |\n",
       "| 2   | 1408038611 | \"A\"      | \"False\"      |\n",
       "| 3   | 1408038568 | \"A\"      | \"False\"      |\n",
       "| 4   | 1408039090 | \"A\"      | \"False\"      |\n",
       "| 5   | 1408039177 | \"A\"      | \"False\"      |\n",
       "| 6   | 1408037146 | \"A\"      | \"False\"      |\n",
       "\n",
       "| Row | COORDS                                                                                                                                                                    |\n",
       "|-----|---------------------------------------------------------------------------------------------------------------------------------------------------------------------------|\n",
       "| 1   | 2x11 Array{Float64,2}:\n",
       " -8.58568  -8.58571  -8.58568  -8.58573  …  -8.587   -8.58658  -8.58488\n",
       " 41.1485   41.1486   41.1489   41.1489      41.1475  41.1472   41.1466   |\n",
       "| 2   | 2x40 Array{Float64,2}:\n",
       " -8.61088  -8.61086  -8.6109  -8.61044  …  -8.60293  -8.60255  -8.60189\n",
       " 41.1456   41.1456   41.1458  41.1462      41.1628   41.1631   41.1636   |\n",
       "| 3   | 2x40 Array{Float64,2}:\n",
       " -8.58574  -8.58573  -8.58572  -8.58629  …  -8.57695  -8.5759  -8.5749\n",
       " 41.1486   41.1488   41.149    41.149       41.1664   41.1672  41.1677    |\n",
       "| 4   | 2x8 Array{Float64,2}:\n",
       " -8.61396  -8.61412  -8.61509  -8.61528  …  -8.61524  -8.61505  -8.61464\n",
       " 41.1412   41.1411   41.1409   41.1408      41.1408   41.1408   41.141   |\n",
       "| 5   | 2x2 Array{Float64,2}:\n",
       " -8.6199  -8.61989\n",
       " 41.148   41.148                                                                                                                 |\n",
       "| 6   | 2x137 Array{Float64,2}:\n",
       " -8.63061  -8.63061  -8.63074  -8.63151  …  -8.62639  -8.6264  -8.62641\n",
       " 41.1782   41.1782   41.1782   41.1781      41.172    41.172   41.172   |\n",
       "\n",
       "| Row | NUM_COORDS |\n",
       "|-----|------------|\n",
       "| 1   | 22         |\n",
       "| 2   | 80         |\n",
       "| 3   | 80         |\n",
       "| 4   | 16         |\n",
       "| 5   | 4          |\n",
       "| 6   | 274        |"
      ]
     },
     "execution_count": 5,
     "metadata": {},
     "output_type": "execute_result"
    }
   ],
   "source": [
    "head(taxi_validation_df)"
   ]
  },
  {
   "cell_type": "code",
   "execution_count": 6,
   "metadata": {
    "collapsed": false
   },
   "outputs": [],
   "source": [
    "type Point{T}\n",
    "  x::T\n",
    "  y::T\n",
    "end\n",
    "\n",
    "type SequenceRef\n",
    "    TripId::Int64\n",
    "    SequenceIndex::Int64\n",
    "    LengthRemaining::Int64\n",
    "end"
   ]
  },
  {
   "cell_type": "markdown",
   "metadata": {},
   "source": [
    "#Data Analysis"
   ]
  },
  {
   "cell_type": "code",
   "execution_count": 12,
   "metadata": {
    "collapsed": false
   },
   "outputs": [],
   "source": [
    "#describe(taxi_validation_df)"
   ]
  },
  {
   "cell_type": "code",
   "execution_count": 7,
   "metadata": {
    "collapsed": false
   },
   "outputs": [
    {
     "name": "stdout",
     "output_type": "stream",
     "text": [
      "finding unique number of coords\n"
     ]
    },
    {
     "ename": "LoadError",
     "evalue": "interrupt\nwhile loading In[7], in expression starting on line 3",
     "output_type": "error",
     "traceback": [
      "interrupt\nwhile loading In[7], in expression starting on line 3",
      "",
      " in promote_eltype at abstractarray.jl:506 (repeats 7580 times)",
      " in cat at abstractarray.jl:675",
      " in hcat at abstractarray.jl:737"
     ]
    }
   ],
   "source": [
    "println(\"finding unique number of coords\")\n",
    "all_coords_val = hcat(taxi_validation_df[:COORDS]...)\n",
    "all_coords = hcat(taxi_df[:COORDS]...)"
   ]
  },
  {
   "cell_type": "code",
   "execution_count": null,
   "metadata": {
    "collapsed": false
   },
   "outputs": [],
   "source": [
    "function GetUniqueCoords(c, round_len=4)\n",
    "    c = round(c, round_len)\n",
    "    c2 = Set([(c[i,1]::Float64, c[i,2]::Float64) for i in 1:size(c, 1)])\n",
    "    println(\"all coords: \", length(c), \", unique coords: \", length(c2))\n",
    "    return c2\n",
    "end\n",
    "\n",
    "function GetTableOrderedSubset(df, num_records=100000)\n",
    "    idxs = sort(shuffle([1:size(df,1)])[1:num_records])\n",
    "    return df[idxs,:]\n",
    "end\n",
    "\n",
    "function ConstructCoordsDatabase(df, round_len=5)\n",
    "    print(length(df[:TRIP_ID]), \", \", length(df[:COORDS]))\n",
    "    return ConstructCoordsDatabase2(df[:TRIP_ID], df[:COORDS], round_len)\n",
    "end\n",
    "\n",
    "function ConstructCoordsDatabase2(TripIds, Coords, round_len=5)\n",
    "    #println(\"num trip_ids/coords: \", length(TripIds), \" \", length(Coords))\n",
    "    #print(\"coords:\", Coords)\n",
    "    D = Dict{(Float64,Float64),Array{SequenceRef,1}}()\n",
    "    num_coords = size(TripIds,1)\n",
    "    for i=1:num_coords\n",
    "        trip_id = TripIds[i]\n",
    "\n",
    "        coords = Coords[i]\n",
    "        if length(coords) == 0\n",
    "            continue\n",
    "        end\n",
    "        \n",
    "        coords = round(Coords[i],round_len)       \n",
    "        \n",
    "        num_coords = size(coords,2)\n",
    "        #println(\"num_coords: \", num_coords)\n",
    "        for j=1:num_coords\n",
    "            coord_pair = (coords[1,j], coords[2,j])\n",
    "            #println(\"coord_pair: \", coord_pair, \", j/num_coords: \", j, \"/\", num_coords, \", thing: \", [SequenceRef(trip_id, j, num_coords-j)])\n",
    "            if !haskey(D, coord_pair)\n",
    "                D[coord_pair] = [SequenceRef(trip_id, j, num_coords-j)]\n",
    "            else\n",
    "                push!(D[coord_pair], SequenceRef(trip_id, j, num_coords-j))\n",
    "            end        \n",
    "        end\n",
    "    end\n",
    "    \n",
    "    return D    \n",
    "end\n",
    "\n",
    "function CreateTrainingTestSet(df)\n",
    "    \n",
    "end\n",
    "\n"
   ]
  },
  {
   "cell_type": "markdown",
   "metadata": {},
   "source": [
    "# Creating coord dict"
   ]
  },
  {
   "cell_type": "code",
   "execution_count": 9,
   "metadata": {
    "collapsed": false
   },
   "outputs": [
    {
     "name": "stdout",
     "output_type": "stream",
     "text": [
      "20000, 20000"
     ]
    },
    {
     "data": {
      "text/plain": [
       "Dict{(Float64,Float64),Array{SequenceRef,1}} with 172374 entries:\n",
       "  (-8.6458,41.1608) => [SequenceRef(1372667821620000578,25,32),SequenceRef(1372…\n",
       "  (-8.6346,41.1609) => [SequenceRef(1375947877620000189,3,22)]\n",
       "  (-8.6369,41.0949) => [SequenceRef(1374258278620000224,201,9)]\n",
       "  (-8.6419,41.1401) => [SequenceRef(1373023493620000595,18,3),SequenceRef(13748…\n",
       "  (-8.3737,41.1834) => [SequenceRef(1375343194620000486,60,24)]\n",
       "  (-8.684,41.1737)  => [SequenceRef(1376230604620000450,53,33)]\n",
       "  (-8.6114,41.1629) => [SequenceRef(1374676784620000352,37,31)]\n",
       "  (-8.6465,41.1617) => [SequenceRef(1372668127620000076,35,2)]\n",
       "  (-8.5799,41.1453) => [SequenceRef(1372673694620000578,11,38),SequenceRef(1372…\n",
       "  (-8.5478,41.1741) => [SequenceRef(1374912227620000518,82,9)]\n",
       "  (-8.613,41.1497)  => [SequenceRef(1373666345620000517,32,9),SequenceRef(13737…\n",
       "  (-8.6488,41.241)  => [SequenceRef(1372683491620000217,78,12)]\n",
       "  (-8.5911,41.1546) => [SequenceRef(1372975880620000363,30,20),SequenceRef(1373…\n",
       "  (-7.3548,40.6326) => [SequenceRef(1373269966620000576,487,137)]\n",
       "  (-8.6075,41.1425) => [SequenceRef(1372697346620000624,46,7),SequenceRef(13728…\n",
       "  (-8.6423,41.1671) => [SequenceRef(1372666772620000472,41,30),SequenceRef(1372…\n",
       "  (-8.5891,41.17)   => [SequenceRef(1372808638620000476,13,5),SequenceRef(13732…\n",
       "  (-8.6367,41.1258) => [SequenceRef(1373473766620000616,7,82),SequenceRef(13747…\n",
       "  (-8.6048,41.13)   => [SequenceRef(1374689909620000243,21,35)]\n",
       "  (-8.5786,41.1693) => [SequenceRef(1375326017620000178,62,7)]\n",
       "  (-8.6157,41.1438) => [SequenceRef(1375375823620000312,4,183)]\n",
       "  (-8.6346,41.1717) => [SequenceRef(1374299253620000424,36,0),SequenceRef(13759…\n",
       "  (-8.6635,41.1645) => [SequenceRef(1376033537620000410,18,2)]\n",
       "  (-8.6584,41.1497) => [SequenceRef(1376298683620000235,7,277)]\n",
       "  (-8.5574,41.1721) => [SequenceRef(1375093684620000002,61,6)]\n",
       "  ⋮                 => ⋮"
      ]
     },
     "execution_count": 9,
     "metadata": {},
     "output_type": "execute_result"
    }
   ],
   "source": [
    "small_taxi_df = GetTableOrderedSubset(taxi_df, 20000)\n",
    "coordsDB = ConstructCoordsDatabase(small_taxi_df, 4)"
   ]
  },
  {
   "cell_type": "code",
   "execution_count": null,
   "metadata": {
    "collapsed": false
   },
   "outputs": [],
   "source": [
    "coord_counts = [length(x)::Int64 for x in values(coordsDB)]\n",
    "#coord_counts\n",
    "describe(coord_counts)"
   ]
  },
  {
   "cell_type": "code",
   "execution_count": null,
   "metadata": {
    "collapsed": true
   },
   "outputs": [],
   "source": [
    "function saveDfs()\n",
    "   writetable(\"output.dat\", df, quotemark = '\\'', separator = ',')\n",
    "   writetable(\"output.dat\", df, quotemark = '\\'', separator = ',')\n",
    "end"
   ]
  },
  {
   "cell_type": "markdown",
   "metadata": {},
   "source": [
    "#Creating new features\n"
   ]
  },
  {
   "cell_type": "code",
   "execution_count": null,
   "metadata": {
    "collapsed": true
   },
   "outputs": [],
   "source": [
    "function GetDateInfo(df)\n",
    "    if haskey(df, :DAYOFWEEK)\n",
    "        return df\n",
    "end\n",
    "\n",
    "function GetDistanceData(df)\n",
    "    if haskey(df, :DISTANCE)\n",
    "        return df\n",
    "end"
   ]
  },
  {
   "cell_type": "markdown",
   "metadata": {},
   "source": [
    "# Training models"
   ]
  },
  {
   "cell_type": "code",
   "execution_count": 387,
   "metadata": {
    "collapsed": false
   },
   "outputs": [
    {
     "data": {
      "text/plain": [
       "false"
      ]
     },
     "execution_count": 387,
     "metadata": {},
     "output_type": "execute_result"
    }
   ],
   "source": [
    "function GetAverageDistanceFromCoordsSequence(coords)\n",
    "    #Outline of the basic algorithm\n",
    "    #for coord_pair c_1..c_n\n",
    "    # estimate <- for i=1:n average(15*(i-1) + average(for c_j in D[c+i] * exp(-|L_j-L_i|) * L_j)\n",
    "    coords = round(Coords[i],round_len)       \n",
    "        \n",
    "        num_coords = size(coords,2)\n",
    "end\n",
    "\n",
    "function GetAverageDistancesByCoordsDict(TripIds, Coords, round_len=5)\n",
    "    distaces = Array{Float64,0}()\n",
    "    num_coords = size(TripIds,1)\n",
    "    for i=1:num_coords\n",
    "        trip_id = TripIds[i]\n",
    "\n",
    "        coords = Coords[i]\n",
    "        if length(coords) == 0\n",
    "            continue\n",
    "        end\n",
    "        \n",
    "        coords = round(Coords[i],round_len)       \n",
    "        \n",
    "        num_coords = size(coords,2)\n",
    "        #println(\"num_coords: \", num_coords)\n",
    "        for j=1:num_coords\n",
    "            coord_pair = (coords[1,j], coords[2,j])\n",
    "            #println(\"coord_pair: \", coord_pair, \", j/num_coords: \", j, \"/\", num_coords, \", thing: \", [SequenceRef(trip_id, j, num_coords-j)])\n",
    "            if !haskey(D, coord_pair)\n",
    "                D[coord_pair] = [SequenceRef(trip_id, j, num_coords-j)]\n",
    "            else\n",
    "                push!(D[coord_pair], SequenceRef(trip_id, j, num_coords-j))\n",
    "            end        \n",
    "        end\n",
    "    end\n",
    "    \n",
    "    return D    \n",
    "end"
   ]
  },
  {
   "cell_type": "markdown",
   "metadata": {
    "collapsed": false
   },
   "source": [
    "#Generating Submission"
   ]
  },
  {
   "cell_type": "code",
   "execution_count": 44,
   "metadata": {
    "collapsed": false
   },
   "outputs": [
    {
     "data": {
      "text/plain": [
       "320-element Array{Any,1}:\n",
       "  676.781\n",
       "  676.781\n",
       "  676.781\n",
       "  676.781\n",
       "  676.781\n",
       " 2055.0  \n",
       "  676.781\n",
       "  676.781\n",
       "  676.781\n",
       " 1185.0  \n",
       "  945.0  \n",
       "  676.781\n",
       "  676.781\n",
       "    ⋮    \n",
       "  676.781\n",
       "  676.781\n",
       "  676.781\n",
       " 1080.0  \n",
       "  676.781\n",
       " 4005.0  \n",
       "  705.0  \n",
       "  720.0  \n",
       " 1410.0  \n",
       "  676.781\n",
       "  676.781\n",
       "  780.0  "
      ]
     },
     "execution_count": 44,
     "metadata": {},
     "output_type": "execute_result"
    }
   ],
   "source": [
    "mean_time = mean(times_validation)\n",
    "submission_validation = [max(x, mean_time) for x in times_validation]\n",
    "\n",
    "df_submission = DataFrame()\n",
    "df_submission[:TRIP_ID] = taxi_validation_df[:TRIP_ID]\n",
    "df_submission[:TRAVEL_TIME] = submission_validation\n",
    "writetable(\"first_submission.csv\", df_submission)"
   ]
  },
  {
   "cell_type": "code",
   "execution_count": 46,
   "metadata": {
    "collapsed": false
   },
   "outputs": [],
   "source": []
  },
  {
   "cell_type": "code",
   "execution_count": 388,
   "metadata": {
    "collapsed": false
   },
   "outputs": [
    {
     "data": {
      "text/plain": [
       "true"
      ]
     },
     "execution_count": 388,
     "metadata": {},
     "output_type": "execute_result"
    }
   ],
   "source": [
    "immutable Point2{T}\n",
    "  x::T\n",
    "  y::T\n",
    "end\n",
    "\n",
    "D = [Point2(1.,2.) => 42]\n",
    "haskey(D, Point2(1., 2.))  #False!\n"
   ]
  },
  {
   "cell_type": "code",
   "execution_count": 42,
   "metadata": {
    "collapsed": false
   },
   "outputs": [
    {
     "ename": "LoadError",
     "evalue": "ArgumentError(\"setindex!(::DataFrame, ...) only broadcasts scalars, not arrays\")\nwhile loading In[42], in expression starting on line 2",
     "output_type": "error",
     "traceback": [
      "ArgumentError(\"setindex!(::DataFrame, ...) only broadcasts scalars, not arrays\")\nwhile loading In[42], in expression starting on line 2",
      "",
      " in setindex! at /home/tony/.julia/v0.3/DataFrames/src/dataframe/dataframe.jl:356",
      " in DataFrame at /home/tony/.julia/v0.3/DataFrames/src/dataframe/dataframe.jl:104"
     ]
    }
   ],
   "source": []
  },
  {
   "cell_type": "code",
   "execution_count": 39,
   "metadata": {
    "collapsed": false
   },
   "outputs": [
    {
     "data": {
      "text/plain": [
       "320-element DataArray{Any,1}:\n",
       " 2x11 Array{Float64,2}:\n",
       " -8.58568  -8.58571  -8.58568  -8.58573  …  -8.587   -8.58658  -8.58488\n",
       " 41.1485   41.1486   41.1489   41.1489      41.1475  41.1472   41.1466    \n",
       " 2x40 Array{Float64,2}:\n",
       " -8.61088  -8.61086  -8.6109  -8.61044  …  -8.60293  -8.60255  -8.60189\n",
       " 41.1456   41.1456   41.1458  41.1462      41.1628   41.1631   41.1636    \n",
       " 2x40 Array{Float64,2}:\n",
       " -8.58574  -8.58573  -8.58572  -8.58629  …  -8.57695  -8.5759  -8.5749\n",
       " 41.1486   41.1488   41.149    41.149       41.1664   41.1672  41.1677     \n",
       " 2x8 Array{Float64,2}:\n",
       " -8.61396  -8.61412  -8.61509  -8.61528  …  -8.61524  -8.61505  -8.61464\n",
       " 41.1412   41.1411   41.1409   41.1408      41.1408   41.1408   41.141    \n",
       " 2x2 Array{Float64,2}:\n",
       " -8.6199  -8.61989\n",
       " 41.148   41.148                                                                                                                \n",
       " 2x137 Array{Float64,2}:\n",
       " -8.63061  -8.63061  -8.63074  -8.63151  …  -8.62639  -8.6264  -8.62641\n",
       " 41.1782   41.1782   41.1782   41.1781      41.172    41.172   41.172    \n",
       " 2x24 Array{Float64,2}:\n",
       " -8.58562  -8.58564  -8.58592  -8.58637  …  -8.58156  -8.58181  -8.58205\n",
       " 41.1489   41.1489   41.1489   41.1489      41.1533   41.1535   41.1538  \n",
       " 2x17 Array{Float64,2}:\n",
       " -8.58292  -8.582   -8.58108  -8.58011  …  -8.57703  -8.57753  -8.57877\n",
       " 41.1811   41.1818  41.183    41.184       41.1861   41.1861   41.1852    \n",
       " 2x43 Array{Float64,2}:\n",
       " -8.60653  -8.60667  -8.6068  -8.60679  …  -8.60548  -8.60549  -8.60549\n",
       " 41.1447   41.1447   41.1447  41.1447      41.1257   41.1258   41.1258    \n",
       " 2x79 Array{Float64,2}:\n",
       " -8.58566  -8.5857  -8.58573  -8.58574  …  -8.59117  -8.58826  -8.58631\n",
       " 41.1486   41.1486  41.1486   41.1486      41.1942   41.1974   41.1993    \n",
       " 2x63 Array{Float64,2}:\n",
       " -8.59123  -8.59123  -8.59122  -8.591   …  -8.58767  -8.5881  -8.58823\n",
       " 41.1627   41.1627   41.1627   41.1626     41.1687   41.1689  41.1689      \n",
       " 2x17 Array{Float64,2}:\n",
       " -8.58569  -8.58576  -8.58571  -8.58576  …  -8.59455  -8.59592  -8.59665\n",
       " 41.1486   41.1487   41.1489   41.149       41.1507   41.1499   41.1494  \n",
       " 2x5 Array{Float64,2}:\n",
       " -8.5801  -8.58023  -8.58152  -8.58252  -8.58433\n",
       " 41.1594  41.1594   41.1593   41.1589   41.1583                                                   \n",
       " ⋮                                                                                                                                                                        \n",
       " 2x21 Array{Float64,2}:\n",
       " -8.61072  -8.61049  -8.6094  -8.6085  …  -8.59074  -8.58956  -8.58816\n",
       " 41.1445   41.1437   41.1432  41.1431     41.1469   41.1471   41.1473      \n",
       " 2x25 Array{Float64,2}:\n",
       " -8.6406  -8.64005  -8.64022  -8.63974  …  -8.63605  -8.63605  -8.63605\n",
       " 41.1549  41.1547   41.1536   41.1533      41.1405   41.1405   41.1406    \n",
       " 2x19 Array{Float64,2}:\n",
       " -8.68929  -8.6893  -8.68873  -8.68765  …  -8.678   -8.67778  -8.67773\n",
       " 41.1682   41.1682  41.1674   41.1663      41.1521  41.1517   41.1515      \n",
       " 2x72 Array{Float64,2}:\n",
       " -8.60636  -8.60636  -8.60711  -8.6073  …  -8.68831  -8.6866  -8.68486\n",
       " 41.1445   41.1446   41.1451   41.1457     41.1728   41.1734  41.1734      \n",
       " 2x45 Array{Float64,2}:\n",
       " -8.61253  -8.61253  -8.61287  -8.61289  …  -8.58566  -8.58584  -8.58584\n",
       " 41.1595   41.1595   41.1595   41.1595      41.1489   41.149    41.149   \n",
       " 2x267 Array{Float64,2}:\n",
       " -8.66747  -8.66735  -8.66717  -8.66798  …  -8.53496  -8.53497  -8.53498\n",
       " 41.2381   41.2383   41.2384   41.2387      41.1433   41.1433   41.1433 \n",
       " 2x47 Array{Float64,2}:\n",
       " -8.60647  -8.60648  -8.60649  -8.60667  …  -8.5917  -8.59579  -8.60045\n",
       " 41.1447   41.1447   41.1447   41.1448      41.1973  41.1973   41.1988    \n",
       " 2x48 Array{Float64,2}:\n",
       " -8.5702  -8.57019  -8.56947  -8.56733  …  -8.59311  -8.59333  -8.59331\n",
       " 41.1595  41.159    41.1591   41.1606      41.1511   41.151    41.1511    \n",
       " 2x94 Array{Float64,2}:\n",
       " -8.61387  -8.61388  -8.61472  -8.61584  …  -8.62978  -8.62977  -8.62979\n",
       " 41.1412   41.1412   41.1411   41.1407      41.1526   41.1526   41.1527  \n",
       " 2x6 Array{Float64,2}:\n",
       " -8.6481  -8.64746  -8.64688  -8.64593  -8.64534  -8.6433\n",
       " 41.1525  41.1524   41.1531   41.1538   41.1544   41.1543                                \n",
       " 2x15 Array{Float64,2}:\n",
       " -8.5717  -8.57058  -8.569   -8.57006  …  -8.5658  -8.56669  -8.56921\n",
       " 41.1561  41.1559   41.1555  41.1561      41.1647  41.1667   41.1676        \n",
       " 2x52 Array{Float64,2}:\n",
       " -8.57456  -8.57225  -8.57049  -8.56883  …  -8.59046  -8.59078  -8.59234\n",
       " 41.1802   41.1799   41.1795   41.1806      41.1978   41.1952   41.1922  "
      ]
     },
     "execution_count": 39,
     "metadata": {},
     "output_type": "execute_result"
    }
   ],
   "source": [
    "taxi_validation_df[:COORDS]"
   ]
  },
  {
   "cell_type": "code",
   "execution_count": null,
   "metadata": {
    "collapsed": true
   },
   "outputs": [],
   "source": []
  }
 ],
 "metadata": {
  "kernelspec": {
   "display_name": "Julia 0.3.7",
   "language": "julia",
   "name": "julia 0.3"
  },
  "language_info": {
   "name": "julia",
   "version": "0.3.7"
  }
 },
 "nbformat": 4,
 "nbformat_minor": 0
}
