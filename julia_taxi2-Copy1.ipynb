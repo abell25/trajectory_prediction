{
 "cells": [
  {
   "cell_type": "code",
   "execution_count": 1,
   "metadata": {
    "collapsed": false
   },
   "outputs": [
    {
     "data": {
      "text/plain": [
       "8"
      ]
     },
     "execution_count": 1,
     "metadata": {},
     "output_type": "execute_result"
    }
   ],
   "source": [
    "using DataFrames\n",
    "using JSON\n",
    "using Iterators\n",
    "using taxis\n",
    "using HDF5, JLD\n",
    "using Stats\n",
    "using kNN\n",
    "using sequenceCompare\n",
    "#reload(\"taxis\")\n",
    "#reload(\"sequenceCompare\")\n",
    "nprocs()"
   ]
  },
  {
   "cell_type": "code",
   "execution_count": 2,
   "metadata": {
    "collapsed": false,
    "scrolled": true
   },
   "outputs": [
    {
     "name": "stdout",
     "output_type": "stream",
     "text": [
      "Begin\n",
      "loading csv files\n",
      "loading coords\n",
      "getting coords counts\n",
      "deleting unneeded data rows/columns\n",
      "adding start/end point columns\n",
      "deleting training examples with no coords!\n",
      "generating test coords column\n",
      "done!\n"
     ]
    }
   ],
   "source": [
    "println(\"Begin\")\n",
    "\n",
    "println(\"loading csv files\")\n",
    "taxi_df = readtable(\"/home/tony/ML/taxi/taxi2_time/train_100k.csv\")\n",
    "taxi_validation_df = readtable(\"/home/tony/ML/taxi/taxi2_time/test.csv\")\n",
    "\n",
    "println(\"loading coords\")\n",
    "taxi_df[:COORDS] = [float(hcat(JSON.parse(x)...)) for x in  taxi_df[:POLYLINE]]\n",
    "taxi_validation_df[:COORDS] = [float(hcat(JSON.parse(x)...)) for x in taxi_validation_df[:POLYLINE]]\n",
    "\n",
    "println(\"getting coords counts\")\n",
    "taxi_df[:NUM_COORDS] = [length(x)::Int64 for x in taxi_df[:COORDS]]\n",
    "taxi_validation_df[:NUM_COORDS] = [length(x)::Int64 for x in taxi_validation_df[:COORDS]]\n",
    "\n",
    "println(\"deleting unneeded data rows/columns\")\n",
    "delete!(taxi_validation_df, :POLYLINE)\n",
    "delete!(taxi_df, :POLYLINE)\n",
    "\n",
    "println(\"adding start/end point columns\")\n",
    "taxi_df[:START] = [x[:,1] for x in taxi_df[:COORDS]]\n",
    "taxi_validation_df[:START] = [x[:,1] for x in taxi_validation_df[:COORDS]]\n",
    "\n",
    "taxi_df[:END] = [x[:,end] for x in taxi_df[:COORDS]]\n",
    "taxi_validation_df[:END] = [x[:,end] for x in taxi_validation_df[:COORDS]]\n",
    "\n",
    "println(\"deleting training examples with no coords!\")\n",
    "#These examples are not going to be useful!\n",
    "deleterows!(taxi_df, find(taxi_df[:NUM_COORDS] .== 0))\n",
    "\n",
    "println(\"generating test coords column\")\n",
    "taxi_df[:COORDS_TEST] = [x[1:2,1:round(rand(1)[1]*size(x,2))] for x in taxi_df[:COORDS]]\n",
    "\n",
    "println(\"done!\")"
   ]
  },
  {
   "cell_type": "code",
   "execution_count": 3,
   "metadata": {
    "collapsed": false
   },
   "outputs": [
    {
     "name": "stdout",
     "output_type": "stream",
     "text": [
      "finding unique number of coords\n"
     ]
    },
    {
     "data": {
      "text/plain": [
       "2x4774976 Array{Float64,2}:\n",
       " -8.61864  -8.6185  -8.62033  -8.62215  …  -8.6304  -8.63042  -8.63041\n",
       " 41.1414   41.1414  41.1425   41.1438      41.1579  41.158    41.1579 "
      ]
     },
     "execution_count": 3,
     "metadata": {},
     "output_type": "execute_result"
    }
   ],
   "source": [
    "println(\"finding unique number of coords\")\n",
    "all_coords_val = hcat(taxi_validation_df[:COORDS]...)\n",
    "all_coords = hcat(taxi_df[:COORDS]...)"
   ]
  },
  {
   "cell_type": "markdown",
   "metadata": {},
   "source": [
    "# Creating coord dict"
   ]
  },
  {
   "cell_type": "code",
   "execution_count": 58,
   "metadata": {
    "collapsed": false
   },
   "outputs": [],
   "source": [
    "#small_taxi_df = GetTableOrderedSubset(taxi_df, 10000)\n",
    "#coordsDB = ConstructCoordsDatabase(small_taxi_df, 4)"
   ]
  },
  {
   "cell_type": "markdown",
   "metadata": {},
   "source": [
    "#Creating new features\n"
   ]
  },
  {
   "cell_type": "code",
   "execution_count": null,
   "metadata": {
    "collapsed": true
   },
   "outputs": [],
   "source": [
    "function GetDateInfo(df)\n",
    "    if haskey(df, :DAYOFWEEK)\n",
    "        return df\n",
    "end\n",
    "\n",
    "function GetDistanceData(df)\n",
    "    if haskey(df, :DISTANCE)\n",
    "        return df\n",
    "end"
   ]
  },
  {
   "cell_type": "markdown",
   "metadata": {},
   "source": [
    "# Training models"
   ]
  },
  {
   "cell_type": "code",
   "execution_count": 58,
   "metadata": {
    "collapsed": false
   },
   "outputs": [
    {
     "name": "stdout",
     "output_type": "stream",
     "text": [
      "20/320 for 200 train path examples\n",
      "40/320 for 200 train path examples\n",
      "60/320 for 200 train path examples\n",
      "80/320 for 200 train path examples\n",
      "100/320 for 200 train path examples\n",
      "120/320 for 200 train path examples\n",
      "140/320 for 200 train path examples\n",
      "160/320 for 200 train path examples\n",
      "180/320 for 200 train path examples\n",
      "200/320 for 200 train path examples\n",
      "220/320 for 200 train path examples\n",
      "240/320 for 200 train path examples\n",
      "260/320 for 200 train path examples\n",
      "280/320 for 200 train path examples\n",
      "300/320 for 200 train path examples\n",
      "320/320 for 200 train path examples\n"
     ]
    },
    {
     "data": {
      "text/plain": [
       "320-element Array{Any,1}:\n",
       " 2x4 Array{Float64,2}:\n",
       " -8.59926  -8.59849  -8.5967  -8.59458\n",
       " 41.1492   41.1484   41.1494  41.1507                                                                      \n",
       " 2x25 Array{Float64,2}:\n",
       " -8.6108  -8.6108  -8.6108  -8.61088  …  -8.60394  -8.60395  -8.60395\n",
       " 41.1449  41.1449  41.1449  41.1452      41.1615   41.1615   41.1616       \n",
       " 2x31 Array{Float64,2}:\n",
       " -8.58581  -8.58576  -8.58664  -8.58831  …  -8.5805  -8.58051  -8.58049\n",
       " 41.1487   41.149    41.149    41.1494      41.1649  41.1649   41.1649   \n",
       " 2x17 Array{Float64,2}:\n",
       " -8.61248  -8.6123  -8.61161  -8.61086  …  -8.61542  -8.61538  -8.61536\n",
       " 41.1461   41.146   41.1461   41.1457      41.1426   41.1426   41.1426   \n",
       " 2x1 Array{Float64,2}:\n",
       " -8.61766\n",
       " 41.1464                                                                                                                                \n",
       " 2x42 Array{Float64,2}:\n",
       " -8.62834  -8.62834  -8.62806  -8.62793  …  -8.62623  -8.62623  -8.62623\n",
       " 41.1577   41.1578   41.1578   41.158       41.1745   41.1745   41.1745 \n",
       " 2x4 Array{Float64,2}:\n",
       " -8.59926  -8.59849  -8.5967  -8.59458\n",
       " 41.1492   41.1484   41.1494  41.1507                                                                      \n",
       " 2x3 Array{Float64,2}:\n",
       " -8.60127  -8.60125  -8.60106\n",
       " 41.1818   41.1818   41.1822                                                                                        \n",
       " 2x35 Array{Float64,2}:\n",
       " -8.61756  -8.61755  -8.61724  -8.61574  …  -8.60553  -8.60558  -8.60616\n",
       " 41.1461   41.1459   41.1449   41.1454      41.1255   41.1266   41.1261 \n",
       " 2x43 Array{Float64,2}:\n",
       " -8.58564  -8.58567  -8.58641  -8.58625  …  -8.57739  -8.57677  -8.57659\n",
       " 41.1486   41.1489   41.1489   41.148       41.1897   41.1895   41.1895 \n",
       " 2x17 Array{Float64,2}:\n",
       " -8.59924  -8.59868  -8.59794  -8.59696  …  -8.58477  -8.58432  -8.58433\n",
       " 41.1492   41.1493   41.1506   41.1523      41.1685   41.1693   41.1693 \n",
       " 2x4 Array{Float64,2}:\n",
       " -8.59926  -8.59849  -8.5967  -8.59458\n",
       " 41.1492   41.1484   41.1494  41.1507                                                                      \n",
       " 2x4 Array{Float64,2}:\n",
       " -8.59926  -8.59849  -8.5967  -8.59458\n",
       " 41.1492   41.1484   41.1494  41.1507                                                                      \n",
       " ⋮                                                                                                                                                                       \n",
       " 2x20 Array{Float64,2}:\n",
       " -8.61085  -8.6109  -8.61092  -8.60998  …  -8.58616  -8.5861  -8.58618\n",
       " 41.1457   41.1458  41.146    41.1466      41.1488   41.1488  41.1488     \n",
       " 2x33 Array{Float64,2}:\n",
       " -8.61991  -8.61987  -8.62    -8.62115  …  -8.64491  -8.64612  -8.64652\n",
       " 41.148    41.148    41.1478  41.1474      41.1406   41.1412   41.1416   \n",
       " 2x25 Array{Float64,2}:\n",
       " -8.68934  -8.68887  -8.68769  -8.68648  …  -8.65397  -8.65405  -8.65407\n",
       " 41.1681   41.1674   41.1663   41.1641      41.1493   41.1493   41.1493 \n",
       " 2x53 Array{Float64,2}:\n",
       " -8.61397  -8.61372  -8.61338  -8.613   …  -8.67073  -8.67072  -8.67071\n",
       " 41.1466   41.1474   41.1475   41.1482     41.1648   41.1648   41.1648   \n",
       " 2x20 Array{Float64,2}:\n",
       " -8.61085  -8.6109  -8.61092  -8.60998  …  -8.58616  -8.5861  -8.58618\n",
       " 41.1457   41.1458  41.146    41.1466      41.1488   41.1488  41.1488     \n",
       " 2x46 Array{Float64,2}:\n",
       " -8.64938  -8.64943  -8.65016  -8.64953  …  -8.56612  -8.56612  -8.56614\n",
       " 41.1543   41.1543   41.1541   41.154       41.1537   41.1537   41.1537 \n",
       " 2x38 Array{Float64,2}:\n",
       " -8.6125  -8.61179  -8.61173  -8.61119  …  -8.59717  -8.59716  -8.59718\n",
       " 41.146   41.146    41.146    41.1462      41.1824   41.1824   41.1824   \n",
       " 2x64 Array{Float64,2}:\n",
       " -8.57362  -8.57406  -8.57344  -8.57364  …  -8.61544  -8.61733  -8.61767\n",
       " 41.1708   41.1706   41.1718   41.172       41.1473   41.1473   41.1464 \n",
       " 2x23 Array{Float64,2}:\n",
       " -8.61864  -8.6185  -8.62033  -8.62215  …  -8.63083  -8.63083  -8.63084\n",
       " 41.1414   41.1414  41.1425   41.1438      41.1545   41.1545   41.1545   \n",
       " 2x39 Array{Float64,2}:\n",
       " -8.64768  -8.64767  -8.64909  …  -8.6474  -8.6474  -8.6474  -8.64739\n",
       " 41.1507   41.1507   41.1509      41.1486  41.1486  41.1486  41.1486       \n",
       " 2x25 Array{Float64,2}:\n",
       " -8.57868  -8.57945  -8.57907  -8.57769  …  -8.56042  -8.56041  -8.56041\n",
       " 41.1458   41.1465   41.1482   41.1498      41.1545   41.1545   41.1545 \n",
       " 2x35 Array{Float64,2}:\n",
       " -8.60221  -8.60165  -8.60027  -8.59898  …  -8.60425  -8.60426  -8.56856\n",
       " 41.1634   41.1638   41.1648   41.1655      41.1609   41.1609   41.1933 "
      ]
     },
     "execution_count": 58,
     "metadata": {},
     "output_type": "execute_result"
    }
   ],
   "source": [
    "all_train_coords = taxi_df[:COORDS][1:200]\n",
    "all_validation_coords = taxi_validation_df[:COORDS]\n",
    "test_guess_paths = findClosestTrainingExampleForTestSet(all_train_coords, all_validation_coords, 2)\n",
    "taxi_validation_df[:GUESS_PATHS] = test_guess_paths"
   ]
  },
  {
   "cell_type": "code",
   "execution_count": 59,
   "metadata": {
    "collapsed": false
   },
   "outputs": [
    {
     "name": "stdout",
     "output_type": "stream",
     "text": [
      "20/100 for 201 train path examples\n",
      "40/100 for 201 train path examples\n",
      "60/100 for 201 train path examples\n",
      "80/100 for 201 train path examples\n",
      "100/100 for 201 train path examples\n"
     ]
    },
    {
     "data": {
      "text/plain": [
       "100-element Array{Any,1}:\n",
       " 2x36 Array{Float64,2}:\n",
       " -8.61116  -8.6112  -8.61087  -8.61088  …  -8.60263  -8.6026  -8.60257\n",
       " 41.1493   41.1493  41.1492   41.1493      41.1616   41.1617  41.1617     \n",
       " 2x1 Array{Float64,2}:\n",
       " -8.621 \n",
       " 41.1501                                                                                                                                 \n",
       " 2x43 Array{Float64,2}:\n",
       " -8.60153  -8.60109  -8.59983  -8.59957  …  -8.56193  -8.56193  -8.56189\n",
       " 41.1457   41.1458   41.1459   41.1459      41.1413   41.1413   41.1413 \n",
       " 2x7 Array{Float64,2}:\n",
       " -8.61071  -8.61082  -8.61055  -8.61039  -8.61008  -8.61191  -8.61199\n",
       " 41.1457   41.1458   41.146    41.1461   41.1464   41.1486   41.1486        \n",
       " 2x34 Array{Float64,2}:\n",
       " -8.61405  -8.61403  -8.61404  -8.61465  …  -8.61293  -8.61295  -8.61297\n",
       " 41.1412   41.1412   41.1412   41.1411      41.1335   41.1335   41.1335 \n",
       " 2x33 Array{Float64,2}:\n",
       " -8.60787  -8.60783  -8.60781  -8.60783  …  -8.60202  -8.60202  -8.60201\n",
       " 41.1675   41.1674   41.1674   41.1674      41.1796   41.1796   41.1796 \n",
       " 2x24 Array{Float64,2}:\n",
       " -8.61097  -8.61096  -8.6107  -8.60992  …  -8.6105  -8.61155  -8.61183\n",
       " 41.1457   41.1457   41.146   41.1465      41.1431  41.1429   41.1425     \n",
       " 2x24 Array{Float64,2}:\n",
       " -8.64961  -8.64974  -8.65026  -8.65071  …  -8.64407  -8.6441  -8.64411\n",
       " 41.1673   41.1668   41.1652   41.1635      41.159    41.1591  41.1591   \n",
       " 2x20 Array{Float64,2}:\n",
       " -8.58433  -8.58481  -8.58553  -8.58534  …  -8.58365  -8.58397  -8.58421\n",
       " 41.1631   41.1629   41.1627   41.1613      41.1505   41.1495   41.1488 \n",
       " 2x30 Array{Float64,2}:\n",
       " -8.61094  -8.61063  -8.60998  -8.60897  …  -8.60563  -8.60603  -8.60607\n",
       " 41.1457   41.1459   41.1464   41.1467      41.1443   41.1444   41.1445 \n",
       " 2x47 Array{Float64,2}:\n",
       " -8.65282  -8.65282  -8.65282  -8.65283  …  -8.622   -8.62193  -8.62184\n",
       " 41.1513   41.1513   41.1513   41.1513      41.1476  41.1476   41.1476   \n",
       " 2x7 Array{Float64,2}:\n",
       " -8.61071  -8.61082  -8.61055  -8.61039  -8.61008  -8.61191  -8.61199\n",
       " 41.1457   41.1458   41.146    41.1461   41.1464   41.1486   41.1486        \n",
       " 2x1 Array{Float64,2}:\n",
       " -8.621 \n",
       " 41.1501                                                                                                                                 \n",
       " ⋮                                                                                                                                                                       \n",
       " 2x7 Array{Float64,2}:\n",
       " -8.61071  -8.61082  -8.61055  -8.61039  -8.61008  -8.61191  -8.61199\n",
       " 41.1457   41.1458   41.146    41.1461   41.1464   41.1486   41.1486        \n",
       " 2x46 Array{Float64,2}:\n",
       " -8.61078  -8.61086  -8.61042  -8.61012  …  -8.63747  -8.63753  -8.63754\n",
       " 41.1457   41.1458   41.1461   41.1465      41.1594   41.1594   41.1594 \n",
       " 2x16 Array{Float64,2}:\n",
       " -8.62001  -8.62007  -8.62008  -8.62002  …  -8.62007  -8.62005  -8.62  \n",
       " 41.1468   41.1467   41.1467   41.1467      41.1467   41.1467   41.1467  \n",
       " 2x65 Array{Float64,2}:\n",
       " -8.60689  -8.60687  -8.6069  -8.60692  …  -8.58568  -8.58568  -8.58568\n",
       " 41.1457   41.1458   41.1459  41.1459      41.1486   41.1486   41.1487   \n",
       " 2x22 Array{Float64,2}:\n",
       " -8.66597  -8.66746  -8.66807  -8.66808  …  -8.66759  -8.66775  -8.66776\n",
       " 41.1763   41.1756   41.1757   41.1757      41.1668   41.1667   41.1667 \n",
       " 2x28 Array{Float64,2}:\n",
       " -8.58587  -8.58577  -8.58577  -8.58582  …  -8.60582  -8.60642  -8.6072\n",
       " 41.1485   41.1486   41.1487   41.1489      41.1445   41.1446   41.1446  \n",
       " 2x17 Array{Float64,2}:\n",
       " -8.61087  -8.61086  -8.61017  -8.60931  …  -8.61079  -8.61202  -8.61241\n",
       " 41.1456   41.1457   41.1463   41.1467      41.1536   41.1545   41.1552 \n",
       " 2x81 Array{Float64,2}:\n",
       " -8.62093  -8.621  -8.62103  -8.62101  …  -8.67019  -8.67019  -8.6702\n",
       " 41.1499   41.15   41.15     41.15        41.2375   41.2375   41.2375      \n",
       " 2x27 Array{Float64,2}:\n",
       " -8.63053  -8.63056  -8.63105  -8.63229  …  -8.64841  -8.64895  -8.64907\n",
       " 41.1548   41.1548   41.1545   41.1536      41.1508   41.1504   41.1495 \n",
       " 2x39 Array{Float64,2}:\n",
       " -8.61401  -8.61403  -8.61402  -8.61403  …  -8.62753  -8.62826  -8.62834\n",
       " 41.1412   41.1412   41.1412   41.1412      41.1557   41.1565   41.1565 \n",
       " 2x47 Array{Float64,2}:\n",
       " -8.60655  -8.60674  -8.6072  -8.60727  …  -8.63673  -8.63671  -8.63664\n",
       " 41.1446   41.1446   41.1451  41.1453      41.1573   41.1573   41.1574   \n",
       " 2x32 Array{Float64,2}:\n",
       " -8.60647  -8.60671  -8.60729  -8.60711  …  -8.6288  -8.6288  -8.62879\n",
       " 41.1447   41.1448   41.1453   41.1459      41.1592  41.1591  41.1591     "
      ]
     },
     "execution_count": 59,
     "metadata": {},
     "output_type": "execute_result"
    }
   ],
   "source": [
    "all_train_coords = taxi_df[:COORDS][1000:1200]\n",
    "test_df = tail(taxi_df, 100)\n",
    "all_test_coords = test_df[:COORDS_TEST]\n",
    "test_guess_paths = findClosestTrainingExampleForTestSet(all_train_coords, all_test_coords, 2)\n",
    "test_df[:GUESS_PATHS] = test_guess_paths"
   ]
  },
  {
   "cell_type": "code",
   "execution_count": 88,
   "metadata": {
    "collapsed": false
   },
   "outputs": [
    {
     "name": "stdout",
     "output_type": "stream",
     "text": [
      "time score: 0.5085077313659201\n",
      "pred: 1080, actual: 1290\n",
      "pred: 30, actual: 1530\n",
      "pred: 1290, actual: 2250\n",
      "pred: 210, actual: 810\n",
      "pred: 1020, actual: 390\n",
      "pred: 990, actual: 1230\n",
      "pred: 720, actual: 810\n",
      "pred: 720, actual: 780\n",
      "pred: 600, actual: 270\n",
      "pred: 900, actual: 1020\n",
      "pred: 1410, actual: 1200\n",
      "pred: 210, actual: 780\n",
      "pred: 30, actual: 1830\n",
      "pred: 30, actual: 750\n",
      "pred: 1920, actual: 8130\n",
      "pred: 720, actual: 1140\n",
      "pred: 600, actual: 1140\n",
      "pred: 1620, actual: 1680\n",
      "pred: 720, actual: 1980\n",
      "pred: 600, actual: 1230\n",
      "pred: 870, actual: 780\n",
      "pred: 600, actual: 1500\n",
      "pred: 2220, actual: 1500\n",
      "pred: 900, actual: 690\n",
      "pred: 1470, actual: 1770\n",
      "pred: 600, actual: 960\n",
      "pred: 1350, actual: 1290\n",
      "pred: 900, actual: 2490\n",
      "pred: 30, actual: 2370\n",
      "pred: 840, actual: 510\n",
      "pred: 630, actual: 1950\n",
      "pred: 30, actual: 1950\n",
      "pred: 30, actual: 2550\n",
      "pred: 810, actual: 1800\n",
      "pred: 600, actual: 1680\n",
      "pred: 210, actual: 960\n",
      "pred: 210, actual: 1170\n",
      "pred: 720, actual: 1020\n",
      "pred: 210, actual: 1440\n",
      "pred: 1380, actual: 720\n",
      "pred: 2070, actual: 870\n",
      "pred: 1950, actual: 2790\n",
      "pred: 2130, actual: 2400\n",
      "pred: 1740, actual: 1680\n",
      "pred: 1590, actual: 1320\n",
      "pred: 930, actual: 810\n",
      "pred: 2130, actual: 3600\n",
      "pred: 510, actual: 1650\n",
      "pred: 1410, actual: 2730\n",
      "pred: 30, actual: 1380\n",
      "pred: 30, actual: 1410\n",
      "pred: 1530, actual: 1410\n",
      "pred: 30, actual: 900\n",
      "pred: 600, actual: 870\n",
      "pred: 1710, actual: 1470\n",
      "pred: 840, actual: 870\n",
      "pred: 1620, actual: 360\n",
      "pred: 960, actual: 2610\n",
      "pred: 480, actual: 1260\n",
      "pred: 1620, actual: 840\n",
      "pred: 600, actual: 1290\n",
      "pred: 1080, actual: 480\n",
      "pred: 1350, actual: 1380\n",
      "pred: 1080, actual: 1230\n",
      "pred: 840, actual: 1770\n",
      "pred: 2580, actual: 2700\n",
      "pred: 930, actual: 1530\n",
      "pred: 1170, actual: 900\n",
      "pred: 450, actual: 1650\n",
      "pred: 1230, actual: 1290\n",
      "pred: 30, actual: 1440\n",
      "pred: 30, actual: 1290\n",
      "pred: 1410, actual: 1080\n",
      "pred: 660, actual: 450\n",
      "pred: 600, actual: 1410\n",
      "pred: 30, actual: 1470\n",
      "pred: 1410, actual: 2280\n",
      "pred: 30, actual: 1860\n",
      "pred: 1410, actual: 1710\n",
      "pred: 1410, actual: 1650\n",
      "pred: 870, actual: 810\n",
      "pred: 810, actual: 630\n",
      "pred: 480, actual: 1140\n",
      "pred: 840, actual: 1050\n",
      "pred: 600, actual: 930\n",
      "pred: 810, actual: 570\n",
      "pred: 2580, actual: 2100\n",
      "pred: 1380, actual: 990\n",
      "pred: 210, actual: 480\n",
      "pred: 1380, actual: 1350\n",
      "pred: 480, actual: 1110\n",
      "pred: 1950, actual: 1560\n",
      "pred: 660, actual: 3420\n",
      "pred: 840, actual: 720\n",
      "pred: 510, actual: 690\n",
      "pred: 2430, actual: 2430\n",
      "pred: 810, actual: 3990\n",
      "pred: 1170, actual: 1680\n",
      "pred: 1410, actual: 2490\n",
      "pred: 960, actual: 960\n"
     ]
    }
   ],
   "source": [
    "\n",
    "\n",
    "function score_path_guess(test_df)\n",
    "    pred_paths = test_df[:GUESS_PATHS]\n",
    "    actual_paths = test_df[:COORDS]\n",
    "    pred_times = [(length(x)*15)::Int64 for x in pred_paths]\n",
    "    actual_times = [(length(x)*15)::Int64 for x in actual_paths]\n",
    "    score = sqrt(mean((log(max(1100, pred_times)+1)-log(actual_times-1)).^2))\n",
    "    println(\"time score: \", score) \n",
    "    for k=1:length(pred_times)\n",
    "        println(\"pred: \", pred_times[k], \", actual: \", actual_times[k]) \n",
    "    end\n",
    "end\n",
    "\n",
    "score_path_guess(test_df)\n"
   ]
  },
  {
   "cell_type": "code",
   "execution_count": 126,
   "metadata": {
    "collapsed": false
   },
   "outputs": [
    {
     "data": {
      "text/plain": [
       "1x3 Array{Float64,2}:\n",
       " 0.0  0.693147  1.09861"
      ]
     },
     "execution_count": 126,
     "metadata": {},
     "output_type": "execute_result"
    }
   ],
   "source": [
    "log([1 2 3])"
   ]
  },
  {
   "cell_type": "code",
   "execution_count": 62,
   "metadata": {
    "collapsed": false
   },
   "outputs": [
    {
     "name": "stdout",
     "output_type": "stream",
     "text": [
      "1:  guessing 30 but existing time is 330\n",
      "2:  guessing 750 but existing time is 1200\n",
      "3:  guessing 1050 but existing time is 1200\n",
      "5:  guessing 30 but existing time is 60\n",
      "6:  guessing 1170 but existing time is 4110\n",
      "7:  guessing 300 but existing time is 720\n",
      "8:  guessing 390 but existing time is 510\n",
      "10:  guessing 1050 but existing time is 2370\n",
      "11:  guessing 600 but existing time is 1890\n",
      "12:  guessing 330 but existing time is 510\n",
      "13:  guessing 30 but existing time is 150\n",
      "14:  guessing 1200 but existing time is 2280\n",
      "15:  guessing 930 but existing time is 1620\n",
      "16:  guessing 1920 but existing time is 2910\n",
      "18:  guessing 840 but existing time is 1890\n",
      "19:  guessing 780 but existing time is 930\n",
      "20:  guessing 600 but existing time is 4920\n",
      "21:  guessing 30 but existing time is 180\n",
      "23:  guessing 450 but existing time is 540\n",
      "24:  guessing 30 but existing time is 120\n",
      "30:  guessing 960 but existing time is 1200\n",
      "31:  guessing 960 but existing time is 1350\n",
      "32:  guessing 510 but existing time is 810\n",
      "33:  guessing 1080 but existing time is 1140\n",
      "36:  guessing 2070 but existing time is 4710\n",
      "37:  guessing 900 but existing time is 2100\n",
      "38:  guessing 660 but existing time is 720\n",
      "39:  guessing 90 but existing time is 210\n",
      "40:  guessing 480 but existing time is 630\n",
      "41:  guessing 1350 but existing time is 1440\n",
      "42:  guessing 90 but existing time is 210\n",
      "43:  guessing 930 but existing time is 1200\n",
      "44:  guessing 1140 but existing time is 1770\n",
      "46:  guessing 120 but existing time is 390\n",
      "47:  guessing 840 but existing time is 930\n",
      "50:  guessing 1200 but existing time is 1710\n",
      "51:  guessing 1350 but existing time is 1920\n",
      "52:  guessing 420 but existing time is 690\n",
      "54:  guessing 930 but existing time is 1320\n",
      "57:  guessing 1140 but existing time is 1590\n",
      "59:  guessing 990 but existing time is 4020\n",
      "60:  guessing 480 but existing time is 1140\n",
      "61:  guessing 330 but existing time is 480\n",
      "63:  guessing 330 but existing time is 600\n",
      "66:  guessing 1140 but existing time is 1770\n",
      "69:  guessing 420 but existing time is 1230\n",
      "70:  guessing 30 but existing time is 270\n",
      "71:  guessing 4080 but existing time is 14100\n",
      "72:  guessing 2340 but existing time is 3360\n",
      "74:  guessing 1740 but existing time is 2340\n",
      "75:  guessing 1200 but existing time is 2040\n",
      "76:  guessing 180 but existing time is 330\n",
      "77:  guessing 30 but existing time is 60\n",
      "80:  guessing 1500 but existing time is 2400\n",
      "81:  guessing 810 but existing time is 990\n",
      "82:  guessing 360 but existing time is 570\n",
      "83:  guessing 1260 but existing time is 1470\n",
      "84:  guessing 810 but existing time is 2910\n",
      "88:  guessing 930 but existing time is 1110\n",
      "89:  guessing 990 but existing time is 1050\n",
      "90:  guessing 1170 but existing time is 1260\n",
      "92:  guessing 1020 but existing time is 1260\n",
      "95:  guessing 1230 but existing time is 6750\n",
      "96:  guessing 3660 but existing time is 4140\n",
      "98:  guessing 1260 but existing time is 2010\n",
      "99:  guessing 570 but existing time is 660\n",
      "101:  guessing 1050 but existing time is 1980\n",
      "108:  guessing 540 but existing time is 1920\n",
      "109:  guessing 90 but existing time is 300\n",
      "114:  guessing 600 but existing time is 690\n",
      "117:  guessing 1200 but existing time is 1920\n",
      "118:  guessing 1500 but existing time is 4560\n",
      "119:  guessing 1200 but existing time is 1530\n",
      "121:  guessing 600 but existing time is 1080\n",
      "126:  guessing 3930 but existing time is 11610\n",
      "127:  guessing 390 but existing time is 870\n",
      "132:  guessing 1200 but existing time is 1380\n",
      "133:  guessing 600 but existing time is 5760\n",
      "136:  guessing 720 but existing time is 1350\n",
      "139:  guessing 930 but existing time is 1110\n",
      "141:  guessing 480 but existing time is 750\n",
      "143:  guessing 690 but existing time is 2490\n",
      "144:  guessing 2760 but existing time is 4650\n",
      "147:  guessing 180 but existing time is 390\n",
      "148:  guessing 600 but existing time is 870\n",
      "150:  guessing 1380 but existing time is 2130\n",
      "151:  guessing 60 but existing time is 360\n",
      "153:  guessing 240 but existing time is 690\n",
      "154:  guessing 60 but existing time is 330\n",
      "158:  guessing 30 but existing time is 150\n",
      "160:  guessing 690 but existing time is 780\n",
      "161:  guessing 330 but existing time is 990\n",
      "162:  guessing 1050 but existing time is 1380\n",
      "164:  guessing 360 but existing time is 1440\n",
      "165:  guessing 390 but existing time is 600\n",
      "166:  guessing 1590 but existing time is 1800\n",
      "167:  guessing 3660 but existing time is 11070\n",
      "169:  guessing 30 but existing time is 90\n",
      "171:  guessing 1230 but existing time is 2160\n",
      "172:  guessing 990 but existing time is 2130\n",
      "174:  guessing 1350 but existing time is 3300\n",
      "176:  guessing 30 but existing time is 90\n",
      "177:  guessing 1260 but existing time is 2370\n",
      "179:  guessing 600 but existing time is 1710\n",
      "181:  guessing 750 but existing time is 1710\n",
      "183:  guessing 660 but existing time is 900\n",
      "184:  guessing 30 but existing time is 240\n",
      "185:  guessing 690 but existing time is 1020\n",
      "187:  guessing 480 but existing time is 810\n",
      "188:  guessing 60 but existing time is 180\n",
      "190:  guessing 1110 but existing time is 6600\n",
      "191:  guessing 570 but existing time is 630\n",
      "192:  guessing 960 but existing time is 1350\n",
      "194:  guessing 690 but existing time is 900\n",
      "195:  guessing 1020 but existing time is 1380\n",
      "196:  guessing 90 but existing time is 360\n",
      "198:  guessing 600 but existing time is 1020\n",
      "199:  guessing 870 but existing time is 9810\n",
      "200:  guessing 1050 but existing time is 2400\n",
      "201:  guessing 1710 but existing time is 18360\n",
      "202:  guessing 30 but existing time is 270\n",
      "204:  guessing 1050 but existing time is 3210\n",
      "208:  guessing 60 but existing time is 180\n",
      "209:  guessing 120 but existing time is 300\n",
      "210:  guessing 840 but existing time is 3330\n",
      "211:  guessing 600 but existing time is 2520\n",
      "213:  guessing 1350 but existing time is 4890\n",
      "214:  guessing 390 but existing time is 510\n",
      "215:  guessing 1440 but existing time is 1620\n",
      "216:  guessing 600 but existing time is 3450\n",
      "217:  guessing 2640 but existing time is 7140\n",
      "218:  guessing 960 but existing time is 2820\n",
      "221:  guessing 1620 but existing time is 6450\n",
      "223:  guessing 2400 but existing time is 10830\n",
      "224:  guessing 840 but existing time is 1620\n",
      "225:  guessing 30 but existing time is 120\n",
      "226:  guessing 660 but existing time is 930\n",
      "227:  guessing 510 but existing time is 540\n",
      "228:  guessing 420 but existing time is 660\n",
      "229:  guessing 30 but existing time is 90\n",
      "231:  guessing 810 but existing time is 1080\n",
      "232:  guessing 930 but existing time is 1140\n",
      "234:  guessing 390 but existing time is 1140\n",
      "235:  guessing 480 but existing time is 660\n",
      "243:  guessing 600 but existing time is 690\n",
      "244:  guessing 90 but existing time is 180\n",
      "246:  guessing 1530 but existing time is 2550\n",
      "250:  guessing 720 but existing time is 930\n",
      "251:  guessing 30 but existing time is 150\n",
      "252:  guessing 30 but existing time is 120\n",
      "253:  guessing 1410 but existing time is 1440\n",
      "256:  guessing 300 but existing time is 450\n",
      "259:  guessing 30 but existing time is 150\n",
      "260:  guessing 420 but existing time is 450\n",
      "262:  guessing 390 but existing time is 450\n",
      "263:  guessing 1020 but existing time is 1140\n",
      "264:  guessing 780 but existing time is 1350\n",
      "265:  guessing 210 but existing time is 240\n",
      "266:  guessing 450 but existing time is 570\n",
      "270:  guessing 780 but existing time is 2130\n",
      "272:  guessing 30 but existing time is 60\n",
      "273:  guessing 1740 but existing time is 1890\n",
      "275:  guessing 480 but existing time is 510\n",
      "277:  guessing 210 but existing time is 240\n",
      "282:  guessing 60 but existing time is 90\n",
      "293:  guessing 1560 but existing time is 1590\n",
      "297:  guessing 150 but existing time is 300\n",
      "300:  guessing 540 but existing time is 2280\n",
      "301:  guessing 750 but existing time is 1140\n",
      "302:  guessing 30 but existing time is 120\n",
      "305:  guessing 570 but existing time is 780\n",
      "306:  guessing 570 but existing time is 780\n",
      "307:  guessing 480 but existing time is 600\n",
      "310:  guessing 480 but existing time is 750\n",
      "313:  guessing 1200 but existing time is 1350\n",
      "314:  guessing 1410 but existing time is 8010\n",
      "315:  guessing 1140 but existing time is 1410\n",
      "316:  guessing 1410 but existing time is 1440\n",
      "317:  guessing 690 but existing time is 2820\n",
      "320:  guessing 1440 but existing time is 1560\n"
     ]
    },
    {
     "data": {
      "text/plain": [
       "320-element Array{Int64,1}:\n",
       "  430\n",
       " 1300\n",
       " 1300\n",
       "  510\n",
       "  160\n",
       " 4210\n",
       "  820\n",
       "  610\n",
       " 1470\n",
       " 2470\n",
       " 1990\n",
       "  610\n",
       "  250\n",
       "    ⋮\n",
       " 1080\n",
       "  850\n",
       "  690\n",
       " 3210\n",
       " 1450\n",
       " 8110\n",
       " 1510\n",
       " 1540\n",
       " 2920\n",
       "  390\n",
       "  870\n",
       " 1660"
      ]
     },
     "execution_count": 62,
     "metadata": {},
     "output_type": "execute_result"
    }
   ],
   "source": [
    "taxi_validation_df[:GUESS_PATHS] = test_guess_paths\n",
    "#guess_times = [length(x)*15 for x in test_guess_paths]\n",
    "num_test_examples = length(test_guess_paths)\n",
    "\n",
    "guess_times = Array(Int64, num_test_examples)\n",
    "dest_coords = cell(num_test_examples)\n",
    "\n",
    "all_test_paths = taxi_validation_df[:COORDS]\n",
    "for k=1:num_test_examples\n",
    "    test_path = all_test_paths[k]\n",
    "    best_guess_path = test_guess_paths[k]\n",
    "    \n",
    "    test_path_time = length(test_path)*15\n",
    "    best_guess_time = length(best_guess_path)*15\n",
    "    \n",
    "    if test_path_time > best_guess_time\n",
    "        println(k, \":  guessing \", best_guess_time, \" but existing time is \", test_path_time)\n",
    "        best_guess_time = test_path_time + 100\n",
    "    end\n",
    "    guess_times[k] = best_guess_time\n",
    "end\n",
    "\n",
    "submission_validation = guess_times"
   ]
  },
  {
   "cell_type": "markdown",
   "metadata": {
    "collapsed": false
   },
   "source": [
    "#Generating Submission"
   ]
  },
  {
   "cell_type": "code",
   "execution_count": 53,
   "metadata": {
    "collapsed": false
   },
   "outputs": [],
   "source": [
    "# beat the benchmark example\n",
    "#mean_time = mean(times_validation)\n",
    "#submission_validation = [max(x, mean_time) for x in times_validation]\n",
    "\n",
    "#submission_validation\n",
    "\n",
    "df_submission = DataFrame()\n",
    "df_submission[:TRIP_ID] = taxi_validation_df[:TRIP_ID]\n",
    "df_submission[:TRAVEL_TIME] = submission_validation\n",
    "writetable(\"second_submission.csv\", df_submission)"
   ]
  },
  {
   "cell_type": "code",
   "execution_count": 50,
   "metadata": {
    "collapsed": false
   },
   "outputs": [
    {
     "ename": "LoadError",
     "evalue": "`!` has no method matching !(::Function)\nwhile loading In[50], in expression starting on line 1",
     "output_type": "error",
     "traceback": [
      "`!` has no method matching !(::Function)\nwhile loading In[50], in expression starting on line 1",
      ""
     ]
    }
   ],
   "source": []
  },
  {
   "cell_type": "code",
   "execution_count": 388,
   "metadata": {
    "collapsed": false
   },
   "outputs": [
    {
     "data": {
      "text/plain": [
       "true"
      ]
     },
     "execution_count": 388,
     "metadata": {},
     "output_type": "execute_result"
    }
   ],
   "source": [
    "immutable Point2{T}\n",
    "  x::T\n",
    "  y::T\n",
    "end\n",
    "\n",
    "D = [Point2(1.,2.) => 42]\n",
    "haskey(D, Point2(1., 2.))  #False!\n"
   ]
  },
  {
   "cell_type": "code",
   "execution_count": 42,
   "metadata": {
    "collapsed": false
   },
   "outputs": [
    {
     "ename": "LoadError",
     "evalue": "ArgumentError(\"setindex!(::DataFrame, ...) only broadcasts scalars, not arrays\")\nwhile loading In[42], in expression starting on line 2",
     "output_type": "error",
     "traceback": [
      "ArgumentError(\"setindex!(::DataFrame, ...) only broadcasts scalars, not arrays\")\nwhile loading In[42], in expression starting on line 2",
      "",
      " in setindex! at /home/tony/.julia/v0.3/DataFrames/src/dataframe/dataframe.jl:356",
      " in DataFrame at /home/tony/.julia/v0.3/DataFrames/src/dataframe/dataframe.jl:104"
     ]
    }
   ],
   "source": []
  },
  {
   "cell_type": "code",
   "execution_count": 39,
   "metadata": {
    "collapsed": false
   },
   "outputs": [
    {
     "data": {
      "text/plain": [
       "320-element DataArray{Any,1}:\n",
       " 2x11 Array{Float64,2}:\n",
       " -8.58568  -8.58571  -8.58568  -8.58573  …  -8.587   -8.58658  -8.58488\n",
       " 41.1485   41.1486   41.1489   41.1489      41.1475  41.1472   41.1466    \n",
       " 2x40 Array{Float64,2}:\n",
       " -8.61088  -8.61086  -8.6109  -8.61044  …  -8.60293  -8.60255  -8.60189\n",
       " 41.1456   41.1456   41.1458  41.1462      41.1628   41.1631   41.1636    \n",
       " 2x40 Array{Float64,2}:\n",
       " -8.58574  -8.58573  -8.58572  -8.58629  …  -8.57695  -8.5759  -8.5749\n",
       " 41.1486   41.1488   41.149    41.149       41.1664   41.1672  41.1677     \n",
       " 2x8 Array{Float64,2}:\n",
       " -8.61396  -8.61412  -8.61509  -8.61528  …  -8.61524  -8.61505  -8.61464\n",
       " 41.1412   41.1411   41.1409   41.1408      41.1408   41.1408   41.141    \n",
       " 2x2 Array{Float64,2}:\n",
       " -8.6199  -8.61989\n",
       " 41.148   41.148                                                                                                                \n",
       " 2x137 Array{Float64,2}:\n",
       " -8.63061  -8.63061  -8.63074  -8.63151  …  -8.62639  -8.6264  -8.62641\n",
       " 41.1782   41.1782   41.1782   41.1781      41.172    41.172   41.172    \n",
       " 2x24 Array{Float64,2}:\n",
       " -8.58562  -8.58564  -8.58592  -8.58637  …  -8.58156  -8.58181  -8.58205\n",
       " 41.1489   41.1489   41.1489   41.1489      41.1533   41.1535   41.1538  \n",
       " 2x17 Array{Float64,2}:\n",
       " -8.58292  -8.582   -8.58108  -8.58011  …  -8.57703  -8.57753  -8.57877\n",
       " 41.1811   41.1818  41.183    41.184       41.1861   41.1861   41.1852    \n",
       " 2x43 Array{Float64,2}:\n",
       " -8.60653  -8.60667  -8.6068  -8.60679  …  -8.60548  -8.60549  -8.60549\n",
       " 41.1447   41.1447   41.1447  41.1447      41.1257   41.1258   41.1258    \n",
       " 2x79 Array{Float64,2}:\n",
       " -8.58566  -8.5857  -8.58573  -8.58574  …  -8.59117  -8.58826  -8.58631\n",
       " 41.1486   41.1486  41.1486   41.1486      41.1942   41.1974   41.1993    \n",
       " 2x63 Array{Float64,2}:\n",
       " -8.59123  -8.59123  -8.59122  -8.591   …  -8.58767  -8.5881  -8.58823\n",
       " 41.1627   41.1627   41.1627   41.1626     41.1687   41.1689  41.1689      \n",
       " 2x17 Array{Float64,2}:\n",
       " -8.58569  -8.58576  -8.58571  -8.58576  …  -8.59455  -8.59592  -8.59665\n",
       " 41.1486   41.1487   41.1489   41.149       41.1507   41.1499   41.1494  \n",
       " 2x5 Array{Float64,2}:\n",
       " -8.5801  -8.58023  -8.58152  -8.58252  -8.58433\n",
       " 41.1594  41.1594   41.1593   41.1589   41.1583                                                   \n",
       " ⋮                                                                                                                                                                        \n",
       " 2x21 Array{Float64,2}:\n",
       " -8.61072  -8.61049  -8.6094  -8.6085  …  -8.59074  -8.58956  -8.58816\n",
       " 41.1445   41.1437   41.1432  41.1431     41.1469   41.1471   41.1473      \n",
       " 2x25 Array{Float64,2}:\n",
       " -8.6406  -8.64005  -8.64022  -8.63974  …  -8.63605  -8.63605  -8.63605\n",
       " 41.1549  41.1547   41.1536   41.1533      41.1405   41.1405   41.1406    \n",
       " 2x19 Array{Float64,2}:\n",
       " -8.68929  -8.6893  -8.68873  -8.68765  …  -8.678   -8.67778  -8.67773\n",
       " 41.1682   41.1682  41.1674   41.1663      41.1521  41.1517   41.1515      \n",
       " 2x72 Array{Float64,2}:\n",
       " -8.60636  -8.60636  -8.60711  -8.6073  …  -8.68831  -8.6866  -8.68486\n",
       " 41.1445   41.1446   41.1451   41.1457     41.1728   41.1734  41.1734      \n",
       " 2x45 Array{Float64,2}:\n",
       " -8.61253  -8.61253  -8.61287  -8.61289  …  -8.58566  -8.58584  -8.58584\n",
       " 41.1595   41.1595   41.1595   41.1595      41.1489   41.149    41.149   \n",
       " 2x267 Array{Float64,2}:\n",
       " -8.66747  -8.66735  -8.66717  -8.66798  …  -8.53496  -8.53497  -8.53498\n",
       " 41.2381   41.2383   41.2384   41.2387      41.1433   41.1433   41.1433 \n",
       " 2x47 Array{Float64,2}:\n",
       " -8.60647  -8.60648  -8.60649  -8.60667  …  -8.5917  -8.59579  -8.60045\n",
       " 41.1447   41.1447   41.1447   41.1448      41.1973  41.1973   41.1988    \n",
       " 2x48 Array{Float64,2}:\n",
       " -8.5702  -8.57019  -8.56947  -8.56733  …  -8.59311  -8.59333  -8.59331\n",
       " 41.1595  41.159    41.1591   41.1606      41.1511   41.151    41.1511    \n",
       " 2x94 Array{Float64,2}:\n",
       " -8.61387  -8.61388  -8.61472  -8.61584  …  -8.62978  -8.62977  -8.62979\n",
       " 41.1412   41.1412   41.1411   41.1407      41.1526   41.1526   41.1527  \n",
       " 2x6 Array{Float64,2}:\n",
       " -8.6481  -8.64746  -8.64688  -8.64593  -8.64534  -8.6433\n",
       " 41.1525  41.1524   41.1531   41.1538   41.1544   41.1543                                \n",
       " 2x15 Array{Float64,2}:\n",
       " -8.5717  -8.57058  -8.569   -8.57006  …  -8.5658  -8.56669  -8.56921\n",
       " 41.1561  41.1559   41.1555  41.1561      41.1647  41.1667   41.1676        \n",
       " 2x52 Array{Float64,2}:\n",
       " -8.57456  -8.57225  -8.57049  -8.56883  …  -8.59046  -8.59078  -8.59234\n",
       " 41.1802   41.1799   41.1795   41.1806      41.1978   41.1952   41.1922  "
      ]
     },
     "execution_count": 39,
     "metadata": {},
     "output_type": "execute_result"
    }
   ],
   "source": [
    "taxi_validation_df[:COORDS]"
   ]
  },
  {
   "cell_type": "code",
   "execution_count": null,
   "metadata": {
    "collapsed": true
   },
   "outputs": [],
   "source": []
  }
 ],
 "metadata": {
  "kernelspec": {
   "display_name": "Julia 0.3.7",
   "language": "julia",
   "name": "julia 0.3"
  },
  "language_info": {
   "name": "julia",
   "version": "0.3.7"
  }
 },
 "nbformat": 4,
 "nbformat_minor": 0
}
