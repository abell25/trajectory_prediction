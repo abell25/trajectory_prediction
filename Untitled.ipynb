{
 "cells": [
  {
   "cell_type": "code",
   "execution_count": 1,
   "metadata": {
    "collapsed": false
   },
   "outputs": [
    {
     "ename": "ERROR",
     "evalue": "Error in library(readr): there is no package called ‘readr’\n",
     "output_type": "error",
     "traceback": [
      "Error in library(readr): there is no package called ‘readr’\n"
     ]
    },
    {
     "ename": "ERROR",
     "evalue": "Error in eval(expr, envir, enclos): could not find function \"read_csv\"\n",
     "output_type": "error",
     "traceback": [
      "Error in eval(expr, envir, enclos): could not find function \"read_csv\"\n"
     ]
    },
    {
     "ename": "ERROR",
     "evalue": "Error in eval(expr, envir, enclos): object 'test' not found\n",
     "output_type": "error",
     "traceback": [
      "Error in eval(expr, envir, enclos): object 'test' not found\n"
     ]
    },
    {
     "ename": "ERROR",
     "evalue": "Error in nrow(test): object 'test' not found\n",
     "output_type": "error",
     "traceback": [
      "Error in nrow(test): object 'test' not found\n"
     ]
    },
    {
     "ename": "ERROR",
     "evalue": "Error in eval(expr, envir, enclos): could not find function \"write_csv\"\n",
     "output_type": "error",
     "traceback": [
      "Error in eval(expr, envir, enclos): could not find function \"write_csv\"\n"
     ]
    }
   ],
   "source": [
    "# This benchmark predicts the maximum of the\n",
    "# time that's elapsed so far in the trip and\n",
    "# the mean time in the training set as the\n",
    "# test trip duration\n",
    "\n",
    "library(readr)\n",
    "library(rjson)\n",
    "\n",
    "test  <- read_csv(\"/home/tony/ML/taxi/taxi2_time/test.csv\")\n",
    "mean_train_time <- 660\n",
    "\n",
    "positions <- function(row) as.data.frame(do.call(rbind, fromJSON(row$POLYLINE)))\n",
    "\n",
    "submission <- test[\"TRIP_ID\"]\n",
    "\n",
    "for (i in 1:nrow(test)) {\n",
    "  submission$TRAVEL_TIME[i] <- max(15*nrow(positions(test[i,])), mean_train_time)\n",
    "}\n",
    "\n",
    "write_csv(submission, \"max_time_elapsed_mean_time_benchmark.csv\")"
   ]
  },
  {
   "cell_type": "code",
   "execution_count": 2,
   "metadata": {
    "collapsed": false
   },
   "outputs": [
    {
     "name": "stderr",
     "output_type": "stream",
     "text": [
      "Installing package into ‘/home/tony/R/x86_64-pc-linux-gnu-library/3.1’\n",
      "(as ‘lib’ is unspecified)\n"
     ]
    },
    {
     "ename": "ERROR",
     "evalue": "Error in contrib.url(repos, type): trying to use CRAN without setting a mirror\n",
     "output_type": "error",
     "traceback": [
      "Error in contrib.url(repos, type): trying to use CRAN without setting a mirror\n"
     ]
    }
   ],
   "source": [
    "install.packages('readr')"
   ]
  },
  {
   "cell_type": "code",
   "execution_count": null,
   "metadata": {
    "collapsed": true
   },
   "outputs": [],
   "source": []
  }
 ],
 "metadata": {
  "kernelspec": {
   "display_name": "R",
   "language": "",
   "name": "ir"
  },
  "language_info": {
   "codemirror_mode": "r",
   "file_extension": ".r",
   "mimetype": "text/x-r-source",
   "name": "R",
   "pygments_lexer": "r",
   "version": "3.1.3"
  }
 },
 "nbformat": 4,
 "nbformat_minor": 0
}
