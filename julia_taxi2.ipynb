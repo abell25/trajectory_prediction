{
 "cells": [
  {
   "cell_type": "code",
   "execution_count": 130,
   "metadata": {
    "collapsed": false
   },
   "outputs": [
    {
     "name": "stderr",
     "output_type": "stream",
     "text": [
      "Warning: using taxis.GetTableOrderedSubset in module Main conflicts with an existing identifier.\n",
      "Warning: using taxis.ConstructCoordsDatabase in module Main conflicts with an existing identifier.\n"
     ]
    },
    {
     "data": {
      "text/plain": [
       "8"
      ]
     },
     "execution_count": 130,
     "metadata": {},
     "output_type": "execute_result"
    }
   ],
   "source": [
    "using DataFrames\n",
    "using JSON\n",
    "using Iterators\n",
    "using taxis\n",
    "using HDF5, JLD\n",
    "using Stats\n",
    "using kNN\n",
    "using sequenceCompare\n",
    "#reload(\"taxis\")\n",
    "#reload(\"sequenceCompare\")\n",
    "nprocs()"
   ]
  },
  {
   "cell_type": "code",
   "execution_count": 131,
   "metadata": {
    "collapsed": false
   },
   "outputs": [
    {
     "name": "stdout",
     "output_type": "stream",
     "text": [
      "Begin\n",
      "loading csv files\n",
      "loading coords\n",
      "getting coords counts\n",
      "deleting unneeded data rows/columns\n",
      "done!\n"
     ]
    },
    {
     "data": {
      "text/plain": [
       "0"
      ]
     },
     "execution_count": 131,
     "metadata": {},
     "output_type": "execute_result"
    }
   ],
   "source": [
    "taxi_df, taxi_validation_df = taxis.LoadData(\"/home/tony/ML/taxi/taxi2_time/train_200k.csv\", \"/home/tony/ML/taxi/taxi2_time/test.csv\")\n",
    "0"
   ]
  },
  {
   "cell_type": "code",
   "execution_count": 133,
   "metadata": {
    "collapsed": false
   },
   "outputs": [
    {
     "data": {
      "text/plain": [
       "4-element DataArray{Any,1}:\n",
       " 2x9 Array{Float64,2}:\n",
       " -8.61864  -8.6185  -8.62033  -8.62215  …  -8.62737  -8.63023  -8.63275\n",
       " 41.1414   41.1414  41.1425   41.1438      41.1447   41.1452   41.1469    \n",
       " 2x11 Array{Float64,2}:\n",
       " -8.63985  -8.64035  -8.6422  -8.64446  …  -8.66018  -8.66311  -8.66624\n",
       " 41.1598   41.1599   41.1601  41.1605      41.1632   41.1637   41.1642   \n",
       " 2x57 Array{Float64,2}:\n",
       " -8.61296  -8.61338  -8.61421  -8.61477  …  -8.63534  -8.63328  -8.63151\n",
       " 41.1404   41.1403   41.1403   41.1404      41.148    41.1472   41.1461 \n",
       " 2x31 Array{Float64,2}:\n",
       " -8.57468  -8.5747  -8.5747  -8.57466  …  -8.59882  -8.60019  -8.60106\n",
       " 41.152    41.1519  41.1519  41.152       41.1461   41.1462   41.1461     "
      ]
     },
     "execution_count": 133,
     "metadata": {},
     "output_type": "execute_result"
    }
   ],
   "source": [
    "train_coords = taxi_df[:COORDS_TEST][1:4]\n",
    "#train_lens = [c[:,1:int(ceil(rand(1)[1]*size(c,2)))] for c in train_coords]"
   ]
  },
  {
   "cell_type": "code",
   "execution_count": 240,
   "metadata": {
    "collapsed": false
   },
   "outputs": [
    {
     "name": "stdout",
     "output_type": "stream",
     "text": [
      "looking at taxi id information\n",
      "Summary Stats:\n",
      "Mean:         463.465116\n",
      "Minimum:      1.000000\n",
      "1st Quartile: 329.250000\n",
      "Median:       428.500000\n",
      "3rd Quartile: 607.000000\n",
      "Maximum:      1067.000000\n",
      "number less than 10: 3\n",
      "number of taxi ids: 430\n"
     ]
    },
    {
     "data": {
      "text/plain": [
       "6"
      ]
     },
     "execution_count": 240,
     "metadata": {},
     "output_type": "execute_result"
    }
   ],
   "source": [
    "println(\"looking at taxi id information\")\n",
    "\n",
    "head(taxi_df)\n",
    "taxi_ids = taxi_df[:TAXI_ID]\n",
    "taxi_ids_dict = Dict{Int64, Int64}()\n",
    "for id in taxi_ids\n",
    "    taxi_ids_dict[id] = get(taxi_ids_dict, id, 0) + 1 \n",
    "end\n",
    "\n",
    "taxi_id_counts = [x::Int64 for x in values(taxi_ids_dict)]\n",
    "describe(taxi_id_counts)\n",
    "println(\"number less than 10: \", sum(taxi_id_counts .< 20)) \n",
    "println(\"number of taxi ids: \", length(keys(taxi_ids_dict)))\n",
    "\n",
    "#taxis_by_id = [id => taxi_df[taxi_df[:TAXI_ID].==id,:] for id in keys(taxi_ids_dict)]\n",
    "\n",
    "val_ids = [get(taxi_ids_dict, x, 0)::Int64 for x in taxi_validation_df[:TAXI_ID]]\n",
    "sum(val_ids .== 0)"
   ]
  },
  {
   "cell_type": "code",
   "execution_count": 104,
   "metadata": {
    "collapsed": false
   },
   "outputs": [
    {
     "name": "stdout",
     "output_type": "stream",
     "text": [
      "finding unique number of coords\n"
     ]
    },
    {
     "data": {
      "text/plain": [
       "2x4774976 Array{Float64,2}:\n",
       " -8.61864  -8.6185  -8.62033  -8.62215  …  -8.6304  -8.63042  -8.63041\n",
       " 41.1414   41.1414  41.1425   41.1438      41.1579  41.158    41.1579 "
      ]
     },
     "execution_count": 104,
     "metadata": {},
     "output_type": "execute_result"
    }
   ],
   "source": [
    "println(\"finding unique number of coords\")\n",
    "all_coords_val = hcat(taxi_validation_df[:COORDS]...)\n",
    "all_coords = hcat(taxi_df[:COORDS]...)"
   ]
  },
  {
   "cell_type": "markdown",
   "metadata": {},
   "source": [
    "# Creating coord dict"
   ]
  },
  {
   "cell_type": "code",
   "execution_count": 53,
   "metadata": {
    "collapsed": false
   },
   "outputs": [
    {
     "name": "stdout",
     "output_type": "stream",
     "text": [
      "190000, 190000Summary Stats:\n",
      "Mean:         1616.671036\n",
      "Minimum:      1.000000\n",
      "1st Quartile: 4.000000\n",
      "Median:       10.000000\n",
      "3rd Quartile: 37.000000\n",
      "Maximum:      963095.000000\n"
     ]
    }
   ],
   "source": [
    "small_taxi_df = GetTableOrderedSubset(taxi_df, 190000)\n",
    "coordsDB = ConstructCoordsDatabase(small_taxi_df, 2)\n",
    "describe([length(x)::Int64 for x in values(coordsDB)])"
   ]
  },
  {
   "cell_type": "code",
   "execution_count": 63,
   "metadata": {
    "collapsed": false
   },
   "outputs": [
    {
     "data": {
      "text/plain": [
       "320-element Array{Any,1}:\n",
       " [-8.58,41.15]\n",
       " [-8.6,41.16] \n",
       " [-8.57,41.17]\n",
       " [-8.61,41.14]\n",
       " [-8.62,41.15]\n",
       " [-8.63,41.17]\n",
       " [-8.58,41.15]\n",
       " [-8.58,41.19]\n",
       " [-8.61,41.13]\n",
       " [-8.59,41.2] \n",
       " [-8.59,41.17]\n",
       " [-8.6,41.15] \n",
       " [-8.58,41.16]\n",
       " ⋮            \n",
       " [-8.59,41.15]\n",
       " [-8.64,41.14]\n",
       " [-8.68,41.15]\n",
       " [-8.68,41.17]\n",
       " [-8.59,41.15]\n",
       " [-8.53,41.14]\n",
       " [-8.6,41.2]  \n",
       " [-8.59,41.15]\n",
       " [-8.63,41.15]\n",
       " [-8.64,41.15]\n",
       " [-8.57,41.17]\n",
       " [-8.59,41.19]"
      ]
     },
     "execution_count": 63,
     "metadata": {},
     "output_type": "execute_result"
    }
   ],
   "source": [
    "taxi_df[:GRID_START] = [round(c,2) for c in taxi_df[:START]]\n",
    "taxi_validation_df[:GRID_START] = [round(c,2) for c in taxi_validation_df[:START]]\n",
    "taxi_df[:GRID_END] = [round(c,2) for c in taxi_df[:END]]\n",
    "taxi_validation_df[:GRID_END] = [round(c,2) for c in taxi_validation_df[:END]]\n"
   ]
  },
  {
   "cell_type": "code",
   "execution_count": null,
   "metadata": {
    "collapsed": true
   },
   "outputs": [],
   "source": []
  },
  {
   "cell_type": "code",
   "execution_count": 128,
   "metadata": {
    "collapsed": false
   },
   "outputs": [],
   "source": [
    "\n",
    "function getGridDicts(train_df, test_df, grid_delta=.01)\n",
    "\n",
    "    train_df[:GRID_START] = [round(c,2) for c in train_df[:START]]\n",
    "    test_df[:GRID_START]  = [round(c,2) for c in test_df[:START] ]\n",
    "    train_df[:GRID_END]   = [round(c,2) for c in train_df[:END]  ]\n",
    "    test_df[:GRID_END]    = [round(c,2) for c in test_df[:END]   ]\n",
    "    grids_dict = Dict()\n",
    "\n",
    "    for i in 1:length(train_df[:GRID_START])\n",
    "        coord_pair = train_df[:GRID_START][i]\n",
    "        res = get(grids_dict, coord_pair, Any[])\n",
    "        push!(res, train_df[:COORDS][i])\n",
    "        grids_dict[coord_pair] = res \n",
    "    end\n",
    "\n",
    "    mean_length_dict = Dict()\n",
    "    mean_dest_dict = Dict()\n",
    "\n",
    "    for grid_coord in keys(grids_dict)\n",
    "        paths = grids_dict[grid_coord]\n",
    "        endpoints = [x[:,end] for x in paths]\n",
    "        path_lens = [int(length(x)/2)::Int64 for x in paths]\n",
    "        #println(\"hey\")\n",
    "        mean_dest_dict[grid_coord] = mean(endpoints)\n",
    "        #println(\"2222\")\n",
    "        mean_length_dict[grid_coord] = round(mean(path_lens))\n",
    "    end\n",
    "\n",
    "    return mean_length_dict, mean_dest_dict    \n",
    "\n",
    "end\n",
    "\n",
    "mean_length_dict, mean_dest_dict = getGridDicts()\n"
   ]
  },
  {
   "cell_type": "code",
   "execution_count": 129,
   "metadata": {
    "collapsed": false
   },
   "outputs": [
    {
     "data": {
      "text/plain": [
       "ValueIterator for a Dict{Any,Any} with 419 entries. Values:\n",
       "  63.0\n",
       "  45.0\n",
       "  54.0\n",
       "  10.0\n",
       "  44.0\n",
       "  33.0\n",
       "  61.0\n",
       "  76.0\n",
       "  44.0\n",
       "  88.0\n",
       "  129.0\n",
       "  79.0\n",
       "  48.0\n",
       "  31.0\n",
       "  53.0\n",
       "  52.0\n",
       "  55.0\n",
       "  50.0\n",
       "  54.0\n",
       "  58.0\n",
       "  71.0\n",
       "  132.0\n",
       "  391.0\n",
       "  67.0\n",
       "  ⋮"
      ]
     },
     "execution_count": 129,
     "metadata": {},
     "output_type": "execute_result"
    }
   ],
   "source": [
    "values(mean_length_dict)"
   ]
  },
  {
   "cell_type": "code",
   "execution_count": 122,
   "metadata": {
    "collapsed": false
   },
   "outputs": [
    {
     "name": "stdout",
     "output_type": "stream",
     "text": [
      "num paths: 6\n",
      "endpoiktns and paths\n",
      "99646.0\n",
      "199292\n",
      "199292\n",
      "199292\n",
      "199292\n",
      "199292\n",
      "199292\n",
      "199292\n"
     ]
    },
    {
     "ename": "LoadError",
     "evalue": "`convert` has no method matching convert(::Type{Float64}, ::Array{Float64,2})\nwhile loading In[122], in expression starting on line 16",
     "output_type": "error",
     "traceback": [
      "`convert` has no method matching convert(::Type{Float64}, ::Array{Float64,2})\nwhile loading In[122], in expression starting on line 16",
      "",
      " in setindex! at array.jl:307",
      " in / at /home/tony/.julia/v0.3/DataArrays/src/operators.jl:294",
      " in mean at statistics.jl:17"
     ]
    }
   ],
   "source": [
    "pairs = collect(keys(grids_dict))\n",
    "grid_coord = pairs[1]\n",
    "\n",
    "p = grids_dict[grid_coord]\n",
    "println(\"num paths: \", length(p))\n",
    "endpoints = [x[:,end] for x in p]\n",
    "paths_lens = [int(length(x)/2)::Int64 for x in p]\n",
    "println(\"endpoiktns and paths\")\n",
    "println(mean(paths_lens))\n",
    "\n",
    "println(length(p[1]))\n",
    "\n",
    "for x in p\n",
    "    println(length(x)) \n",
    "end\n",
    "println(mean(endpoints))\n"
   ]
  },
  {
   "cell_type": "code",
   "execution_count": 90,
   "metadata": {
    "collapsed": false
   },
   "outputs": [
    {
     "data": {
      "text/plain": [
       "29.0"
      ]
     },
     "execution_count": 90,
     "metadata": {},
     "output_type": "execute_result"
    }
   ],
   "source": [
    "sum([haskey(grids_dict, x) for x in taxi_validation_df[:GRID_START]])\n",
    "mean([c for c in train_df[:END][1:5]])\n",
    "median(train_df[:NUM_COORDS][1:5])"
   ]
  },
  {
   "cell_type": "markdown",
   "metadata": {},
   "source": [
    "#Creating new features\n"
   ]
  },
  {
   "cell_type": "code",
   "execution_count": null,
   "metadata": {
    "collapsed": true
   },
   "outputs": [],
   "source": [
    "function GetDateInfo(df)\n",
    "    if haskey(df, :DAYOFWEEK)\n",
    "        return df\n",
    "end\n",
    "\n",
    "function GetDistanceData(df)\n",
    "    if haskey(df, :DISTANCE)\n",
    "        return df\n",
    "end"
   ]
  },
  {
   "cell_type": "markdown",
   "metadata": {},
   "source": [
    "# Training models"
   ]
  },
  {
   "cell_type": "code",
   "execution_count": 48,
   "metadata": {
    "collapsed": false
   },
   "outputs": [
    {
     "data": {
      "text/plain": [
       "avgDTWstartDiffScore (generic function with 4 methods)"
      ]
     },
     "execution_count": 48,
     "metadata": {},
     "output_type": "execute_result"
    }
   ],
   "source": [
    "function euclideanDist(p1, p2)\n",
    "    return sqrt((p1[1]-p2[1])^2 + (p1[2]-p2[2])^2)\n",
    "end\n",
    "\n",
    "function findClosestTrainingExample2(all_train_coords, test_path, w=1)\n",
    "    num_paths = length(all_train_coords)\n",
    "    best_dist = 9999.0\n",
    "    best_path = all_train_coords[1]\n",
    "    for k=1:num_paths\n",
    "        train_path = all_train_coords[k]\n",
    "        if w <= 1\n",
    "            dist = DTWDistance(train_path, test_path) \n",
    "        else\n",
    "            dist = DTWDistance(train_path, test_path, w) \n",
    "        end\n",
    "        #println(\"k=\", k, \" dist=\", dist)\n",
    "        if dist < best_dist\n",
    "            #println(k, \", old best: \", best_dist, \" new best: \", dist)\n",
    "            best_dist = dist\n",
    "            best_path = all_train_coords[k]\n",
    "        end\n",
    "    end\n",
    "    \n",
    "    return best_path\n",
    "end\n",
    "\n",
    "# Create a DTW/START_DIFF metric\n",
    "function findClosestTrainingExample3(all_train_coords, test_path, w=1)\n",
    "    num_paths = length(all_train_coords)\n",
    "    best_score = 999999.0\n",
    "    best_path = all_train_coords[1]\n",
    "    for k=1:num_paths\n",
    "        \n",
    "        train_path = all_train_coords[k]\n",
    "        test_path = test_path[:,1:min(end, size(train_path,2)+2)]\n",
    "        \n",
    "        if size(train_path,2) < size(test_path, 2)\n",
    "            continue\n",
    "        end\n",
    "        \n",
    "        if w <= 1\n",
    "            dist = DTWDistance(train_path, test_path) \n",
    "        else\n",
    "            dist = DTWDistance(train_path, test_path, w) \n",
    "        end\n",
    "        \n",
    "        start_diff = float(euclideanDist(test_path[:,1], train_path[:,1])+0.000001)\n",
    "        \n",
    "        # score is 1/dist * 1/start_diff = 1/(dist*start_diff)\n",
    "        # we'll minimize score = (dist*start_diff)\n",
    "        score = float(dist * start_diff)\n",
    "        \n",
    "        if score < best_score\n",
    "            best_score = score\n",
    "            best_path = all_train_coords[k]\n",
    "        end\n",
    "    end\n",
    "    \n",
    "    return best_path\n",
    "end\n",
    "\n",
    "function findClosestTrainingExamplesDTWstarDiffAvg(all_train_coords, test_path, w=2, num_avg=30)\n",
    "    num_paths = length(all_train_coords)\n",
    "    \n",
    "    dists = [float(DTWDistance(train_path, test_path, w)) for train_path in all_train_coords]\n",
    "    start_diffs = [float(euclideanDist(test_path[:,1], train_path[:,1])+0.0000001) for train_path in all_train_coords]\n",
    "    num_coords = [size(train_path,2) for train_path in all_train_coords]\n",
    "    \n",
    "    \n",
    "    df = DataFrame(DISTS = dists, START_DIFF = start_diffs, NUM_COORDS = num_coords, DTW_START_DIFF = dists .* start_diffs)\n",
    "    sort!(df, cols=[:DTW_START_DIFF])\n",
    "    avg_length = median(df[:NUM_COORDS][1:min(end,num_avg)])\n",
    "    \n",
    "    return int(avg_length)\n",
    "end\n",
    "\n",
    "\n",
    "function findClosestTrainingExampleForTestSet2(train_df, test_df, max_subset=1000, w=1)\n",
    "    all_train_paths = train_df[:COORDS]\n",
    "    all_test_paths  = test_df[:COORDS]\n",
    "    num_train_paths = length(all_train_paths)\n",
    "    num_test_paths = length(all_test_paths)\n",
    "    train_paths_subset = all_train_paths[7000:(7000+max_subset)]\n",
    "    closest_examples = cell(num_test_paths)\n",
    "    \n",
    "    for k=1:num_test_paths\n",
    "        if k % 20 == 0\n",
    "            println(k, \"/\", num_test_paths, \" for \", num_train_paths, \" train path examples\") \n",
    "        end\n",
    "        test_path = all_test_paths[k]\n",
    "        test_path_len = size(test_path, 2)\n",
    "        test_taxi_id = test_df[:TAXI_ID][k]\n",
    "        \n",
    "        same_taxi_df = train_df[train_df[:TAXI_ID] .== test_taxi_id,:]\n",
    "        if size(same_taxi_df,1) == 0        \n",
    "            println(\"no taxi ids found for \", test_taxi_id)\n",
    "            closest_training_example = findClosestTrainingExample(train_paths_subset, test_path, w) \n",
    "            closest_examples[k] = closest_training_example\n",
    "        else \n",
    "            #println(size(same_taxi_df,1), \"    - number of taxi id's routes\")\n",
    "            #println(\"test path length: \", test_path_len)\n",
    "            #println(\"taxi id: \", test_taxi_id)\n",
    "            same_taxi_paths = same_taxi_df[same_taxi_df[:NUM_COORDS] .>= test_path_len,:][:COORDS][1:min(end,max_subset)]\n",
    "            println(size(same_taxi_df,1), \"    - number of taxi id's routes with \", length(same_taxi_paths),\n",
    "            \" greater than length \", test_path_len,\"!\")\n",
    "\n",
    "            if length(same_taxi_paths) == 0\n",
    "                println(\"all paths filtered out!  resorting to random search again!\")\n",
    "                closest_training_example = findClosestTrainingExample(train_paths_subset, test_path, w) \n",
    "                closest_examples[k] = closest_training_example\n",
    "            else\n",
    "                closest_training_example = findClosestTrainingExample(same_taxi_paths, test_path, w) \n",
    "                closest_examples[k] = closest_training_example                \n",
    "            end\n",
    "        end\n",
    "    end\n",
    "    \n",
    "    return closest_examples\n",
    "end\n",
    "\n",
    "function findClosestTrainingExampleForTestSet3(train_df, test_df, max_subset=4000, w=1)\n",
    "    all_train_paths = train_df[:COORDS]\n",
    "    all_test_paths  = test_df[:COORDS]\n",
    "    num_train_paths = length(all_train_paths)\n",
    "    num_test_paths = length(all_test_paths)\n",
    "    train_paths_subset = all_train_paths[7000:(7000+max_subset)]\n",
    "    closest_examples = cell(num_test_paths)\n",
    "    \n",
    "    for k=1:num_test_paths\n",
    "        if k % 20 == 0\n",
    "            println(k, \"/\", num_test_paths, \" for \", num_train_paths, \" train path examples\") \n",
    "        end\n",
    "        test_path = all_test_paths[k]\n",
    "        test_path_len = size(test_path, 2)\n",
    "        test_taxi_id = test_df[:TAXI_ID][k]\n",
    "        \n",
    "        same_taxi_df = train_df[train_df[:TAXI_ID] .== test_taxi_id,:]\n",
    "        if size(same_taxi_df,1) == 0        \n",
    "            println(\"no taxi ids found for \", test_taxi_id)\n",
    "            closest_training_example = findClosestTrainingExample3(train_paths_subset, test_path, w) \n",
    "            closest_examples[k] = closest_training_example\n",
    "        else \n",
    "            #println(size(same_taxi_df,1), \"    - number of taxi id's routes\")\n",
    "            #println(\"test path length: \", test_path_len)\n",
    "            #println(\"taxi id: \", test_taxi_id)\n",
    "            same_taxi_paths = same_taxi_df[same_taxi_df[:NUM_COORDS] .>= test_path_len,:][:COORDS]\n",
    "            println(size(same_taxi_df,1), \"    - number of taxi id's routes with \", length(same_taxi_paths),\n",
    "            \" greater than length \", test_path_len,\"!\")\n",
    "\n",
    "            if length(same_taxi_paths) == 0\n",
    "                println(\"all paths filtered out!  resorting to random search again!\")\n",
    "                closest_training_example = findClosestTrainingExample3(train_paths_subset, test_path, w) \n",
    "                closest_examples[k] = closest_training_example\n",
    "            else\n",
    "                closest_training_example = findClosestTrainingExample3(same_taxi_paths, test_path, w) \n",
    "                closest_examples[k] = closest_training_example                \n",
    "            end\n",
    "        end\n",
    "    end\n",
    "    \n",
    "    return closest_examples\n",
    "end\n",
    "\n",
    "function avgDTWstartDiffScore(train_df, test_df, max_subset=4000, w=2, num_avg=30)\n",
    "    all_train_paths = train_df[:COORDS]\n",
    "    all_test_paths  = test_df[:COORDS]\n",
    "    num_train_paths = length(all_train_paths)\n",
    "    num_test_paths = length(all_test_paths)\n",
    "    train_paths_subset = all_train_paths[7000:(7000+max_subset)]\n",
    "    closest_examples = cell(num_test_paths)\n",
    "    \n",
    "    for k=1:num_test_paths\n",
    "        if k % 20 == 0\n",
    "            println(k, \"/\", num_test_paths, \" for \", num_train_paths, \" train path examples\") \n",
    "        end\n",
    "        test_path = all_test_paths[k]\n",
    "        test_path_len = size(test_path, 2)\n",
    "        test_taxi_id = test_df[:TAXI_ID][k]\n",
    "        \n",
    "        same_taxi_df = train_df[train_df[:TAXI_ID] .== test_taxi_id,:]\n",
    "        if size(same_taxi_df,1) == 0        \n",
    "            println(\"no taxi ids found for \", test_taxi_id)\n",
    "            closest_training_example = findClosestTrainingExamplesDTWstarDiffAvg(train_paths_subset, test_path, w, num_avg) \n",
    "            closest_examples[k] = closest_training_example\n",
    "        else \n",
    "            #println(size(same_taxi_df,1), \"    - number of taxi id's routes\")\n",
    "            #println(\"test path length: \", test_path_len)\n",
    "            #println(\"taxi id: \", test_taxi_id)\n",
    "            same_taxi_paths = same_taxi_df[same_taxi_df[:NUM_COORDS] .>= test_path_len,:][:COORDS]\n",
    "            println(size(same_taxi_df,1), \"    - number of taxi id's routes with \", length(same_taxi_paths),\n",
    "            \" greater than length \", test_path_len,\"!\")\n",
    "\n",
    "            if length(same_taxi_paths) == 0\n",
    "                println(\"all paths filtered out!  resorting to random search again!\")\n",
    "                closest_training_example = findClosestTrainingExamplesDTWstarDiffAvg(train_paths_subset, test_path, w, num_avg) \n",
    "                closest_examples[k] = closest_training_example\n",
    "            else\n",
    "                closest_training_example = findClosestTrainingExamplesDTWstarDiffAvg(same_taxi_paths, test_path, w, num_avg) \n",
    "                closest_examples[k] = closest_training_example   \n",
    "            end\n",
    "        end\n",
    "    end\n",
    "    \n",
    "    return closest_examples\n",
    "end"
   ]
  },
  {
   "cell_type": "code",
   "execution_count": null,
   "metadata": {
    "collapsed": true
   },
   "outputs": [],
   "source": [
    "function startEndPrediction(train_paths, test_paths)\n",
    "    num_test_examples = length(test_paths)\n",
    "    \n",
    "end"
   ]
  },
  {
   "cell_type": "code",
   "execution_count": 16,
   "metadata": {
    "collapsed": false
   },
   "outputs": [
    {
     "name": "stdout",
     "output_type": "stream",
     "text": [
      "SUBMISSION PREDICTION\n",
      "744    - number of taxi id's routes with 701 greater than length 11!\n",
      "820    - number of taxi id's routes with 366 greater than length 40!\n",
      "602    - number of taxi id's routes with 231 greater than length 40!\n",
      "847    - number of taxi id's routes with 830 greater than length 8!\n",
      "899    - number of taxi id's routes with 897 greater than length 2!\n",
      "437    - number of taxi id's routes with 53 greater than length 137!\n",
      "794    - number of taxi id's routes with 684 greater than length 24!\n",
      "367    - number of taxi id's routes with 345 greater than length 17!\n",
      "706    - number of taxi id's routes with 245 greater than length 43!\n",
      "309    - number of taxi id's routes with 27 greater than length 79!\n",
      "560    - number of taxi id's routes with 100 greater than length 63!\n",
      "595    - number of taxi id's routes with 567 greater than length 17!\n",
      "368    - number of taxi id's routes with 366 greater than length 5!\n",
      "103    - number of taxi id's routes with 46 greater than length 76!\n",
      "608    - number of taxi id's routes with 155 greater than length 54!\n",
      "431    - number of taxi id's routes with 24 greater than length 97!\n",
      "363    - number of taxi id's routes with 318 greater than length 27!\n",
      "528    - number of taxi id's routes with 135 greater than length 63!\n",
      "708    - number of taxi id's routes with 534 greater than length 31!\n",
      "20/320 for 199290 train path examples\n",
      "311    - number of taxi id's routes with 3 greater than length 164!\n",
      "368    - number of taxi id's routes with 363 greater than length 6!\n",
      "660    - number of taxi id's routes with 637 greater than length 13!\n",
      "496    - number of taxi id's routes with 436 greater than length 18!\n",
      "361    - number of taxi id's routes with 357 greater than length 4!\n",
      "234    - number of taxi id's routes with 229 greater than length 10!\n",
      "356    - number of taxi id's routes with 345 greater than length 12!\n",
      "723    - number of taxi id's routes with 718 greater than length 5!\n",
      "270    - number of taxi id's routes with 267 greater than length 3!\n",
      "562    - number of taxi id's routes with 211 greater than length 51!\n",
      "161    - number of taxi id's routes with 102 greater than length 40!\n",
      "543    - number of taxi id's routes with 188 greater than length 45!\n",
      "316    - number of taxi id's routes with 275 greater than length 27!\n",
      "708    - number of taxi id's routes with 387 greater than length 38!\n",
      "691    - number of taxi id's routes with 691 greater than length 1!\n",
      "551    - number of taxi id's routes with 235 greater than length 48!\n",
      "510    - number of taxi id's routes with 4 greater than length 157!\n",
      "240    - number of taxi id's routes with 56 greater than length 70!\n",
      "254    - number of taxi id's routes with 216 greater than length 24!\n",
      "309    - number of taxi id's routes with 308 greater than length 7!\n",
      "40/320 for 199290 train path examples\n",
      "643    - number of taxi id's routes with 575 greater than length 21!\n",
      "276    - number of taxi id's routes with 88 greater than length 48!\n",
      "328    - number of taxi id's routes with 324 greater than length 7!\n",
      "563    - number of taxi id's routes with 340 greater than length 40!\n",
      "500    - number of taxi id's routes with 86 greater than length 59!\n",
      "779    - number of taxi id's routes with 740 greater than length 16!\n",
      "640    - number of taxi id's routes with 620 greater than length 13!\n",
      "601    - number of taxi id's routes with 430 greater than length 31!\n",
      "359    - number of taxi id's routes with 337 greater than length 18!\n",
      "399    - number of taxi id's routes with 280 greater than length 39!\n",
      "615    - number of taxi id's routes with 136 greater than length 57!\n",
      "607    - number of taxi id's routes with 149 greater than length 64!\n",
      "223    - number of taxi id's routes with 179 greater than length 23!\n",
      "445    - number of taxi id's routes with 415 greater than length 19!\n",
      "761    - number of taxi id's routes with 337 greater than length 44!\n",
      "702    - number of taxi id's routes with 430 greater than length 39!\n",
      "556    - number of taxi id's routes with 466 greater than length 23!\n",
      "251    - number of taxi id's routes with 53 greater than length 53!\n",
      "337    - number of taxi id's routes with 296 greater than length 22!\n",
      "435    - number of taxi id's routes with 24 greater than length 134!\n",
      "60/320 for 199290 train path examples\n",
      "357    - number of taxi id's routes with 207 greater than length 38!\n",
      "408    - number of taxi id's routes with 394 greater than length 16!\n",
      "562    - number of taxi id's routes with 541 greater than length 10!\n",
      "677    - number of taxi id's routes with 585 greater than length 20!\n",
      "511    - number of taxi id's routes with 466 greater than length 24!\n",
      "337    - number of taxi id's routes with 254 greater than length 23!\n",
      "348    - number of taxi id's routes with 83 greater than length 59!\n",
      "819    - number of taxi id's routes with 645 greater than length 26!\n",
      "548    - number of taxi id's routes with 399 greater than length 24!\n",
      "319    - number of taxi id's routes with 228 greater than length 41!\n",
      "288    - number of taxi id's routes with 285 greater than length 9!\n",
      "655    - number of taxi id's routes with 1 greater than length 470!\n",
      "623    - number of taxi id's routes with 17 greater than length 112!\n",
      "477    - number of taxi id's routes with 458 greater than length 11!\n",
      "558    - number of taxi id's routes with 78 greater than length 78!\n",
      "337    - number of taxi id's routes with 51 greater than length 68!\n",
      "706    - number of taxi id's routes with 686 greater than length 11!\n",
      "655    - number of taxi id's routes with 646 greater than length 2!\n",
      "331    - number of taxi id's routes with 245 greater than length 33!\n",
      "511    - number of taxi id's routes with 426 greater than length 12!\n",
      "80/320 for 199290 train path examples\n",
      "612    - number of taxi id's routes with 92 greater than length 80!\n",
      "576    - number of taxi id's routes with 389 greater than length 33!\n",
      "562    - number of taxi id's routes with 527 greater than length 19!\n",
      "371    - number of taxi id's routes with 156 greater than length 49!\n",
      "629    - number of taxi id's routes with 56 greater than length 97!\n",
      "370    - number of taxi id's routes with 311 greater than length 25!\n",
      "504    - number of taxi id's routes with 236 greater than length 42!\n",
      "179    - number of taxi id's routes with 97 greater than length 43!\n",
      "400    - number of taxi id's routes with 232 greater than length 37!\n",
      "415    - number of taxi id's routes with 248 greater than length 35!\n",
      "698    - number of taxi id's routes with 343 greater than length 42!\n",
      "495    - number of taxi id's routes with 58 greater than length 70!\n",
      "705    - number of taxi id's routes with 281 greater than length 42!\n",
      "924    - number of taxi id's routes with 682 greater than length 29!\n",
      "134    - number of taxi id's routes with 134 greater than length 3!\n",
      "671    - number of taxi id's routes with 10 greater than length 225!\n",
      "600    - number of taxi id's routes with 78 greater than length 138!\n",
      "560    - number of taxi id's routes with 527 greater than length 17!\n",
      "551    - number of taxi id's routes with 143 greater than length 67!\n",
      "382    - number of taxi id's routes with 348 greater than length 22!\n",
      "100/320 for 199290 train path examples\n",
      "355    - number of taxi id's routes with 296 greater than length 20!\n",
      "395    - number of taxi id's routes with 92 greater than length 66!\n",
      "295    - number of taxi id's routes with 123 greater than length 47!\n",
      "785    - number of taxi id's routes with 641 greater than length 25!\n",
      "429    - number of taxi id's routes with 427 greater than length 9!\n",
      "310    - number of taxi id's routes with 248 greater than length 10!\n",
      "606    - number of taxi id's routes with 578 greater than length 15!\n",
      "504    - number of taxi id's routes with 490 greater than length 9!\n",
      "476    - number of taxi id's routes with 71 greater than length 64!\n",
      "339    - number of taxi id's routes with 322 greater than length 10!\n",
      "471    - number of taxi id's routes with 353 greater than length 29!\n",
      "339    - number of taxi id's routes with 255 greater than length 32!\n",
      "345    - number of taxi id's routes with 213 greater than length 35!\n",
      "345    - number of taxi id's routes with 329 greater than length 19!\n",
      "292    - number of taxi id's routes with 233 greater than length 23!\n",
      "288    - number of taxi id's routes with 260 greater than length 21!\n",
      "309    - number of taxi id's routes with 296 greater than length 19!\n",
      "357    - number of taxi id's routes with 85 greater than length 64!\n",
      "391    - number of taxi id's routes with 3 greater than length 152!\n",
      "403    - number of taxi id's routes with 114 greater than length 51!\n",
      "120/320 for 199290 train path examples\n",
      "579    - number of taxi id's routes with 573 greater than length 11!\n",
      "no taxi ids found for 20000248\n",
      "385    - number of taxi id's routes with 385 greater than length 1!\n",
      "548    - number of taxi id's routes with 545 greater than length 2!\n",
      "799    - number of taxi id's routes with 790 greater than length 5!\n",
      "735    - number of taxi id's routes with 502 greater than length 30!\n",
      "500    - number of taxi id's routes with 0 greater than length 387!\n",
      "all paths filtered out!  resorting to random search again!\n",
      "410    - number of taxi id's routes with 266 greater than length 29!\n",
      "375    - number of taxi id's routes with 239 greater than length 35!\n",
      "701    - number of taxi id's routes with 121 greater than length 62!\n",
      "521    - number of taxi id's routes with 444 greater than length 22!\n",
      "700    - number of taxi id's routes with 687 greater than length 9!\n",
      "311    - number of taxi id's routes with 133 greater than length 46!\n",
      "706    - number of taxi id's routes with 1 greater than length 192!\n",
      "575    - number of taxi id's routes with 567 greater than length 11!\n",
      "396    - number of taxi id's routes with 370 greater than length 11!\n",
      "399    - number of taxi id's routes with 234 greater than length 45!\n",
      "240    - number of taxi id's routes with 225 greater than length 21!\n",
      "393    - number of taxi id's routes with 304 greater than length 29!\n",
      "361    - number of taxi id's routes with 227 greater than length 37!\n",
      "140/320 for 199290 train path examples\n",
      "261    - number of taxi id's routes with 131 greater than length 44!\n",
      "395    - number of taxi id's routes with 346 greater than length 25!\n",
      "330    - number of taxi id's routes with 316 greater than length 15!\n",
      "375    - number of taxi id's routes with 27 greater than length 83!\n",
      "39    - number of taxi id's routes with 3 greater than length 155!\n",
      "717    - number of taxi id's routes with 592 greater than length 23!\n",
      "545    - number of taxi id's routes with 512 greater than length 20!\n",
      "409    - number of taxi id's routes with 353 greater than length 13!\n",
      "431    - number of taxi id's routes with 331 greater than length 29!\n",
      "460    - number of taxi id's routes with 294 greater than length 32!\n",
      "182    - number of taxi id's routes with 35 greater than length 71!\n",
      "368    - number of taxi id's routes with 352 greater than length 12!\n",
      "no taxi ids found for 20000698\n",
      "500    - number of taxi id's routes with 425 greater than length 23!\n",
      "606    - number of taxi id's routes with 595 greater than length 11!\n",
      "517    - number of taxi id's routes with 144 greater than length 49!\n",
      "698    - number of taxi id's routes with 663 greater than length 19!\n",
      "717    - number of taxi id's routes with 599 greater than length 22!\n",
      "393    - number of taxi id's routes with 379 greater than length 5!\n",
      "127    - number of taxi id's routes with 60 greater than length 44!\n",
      "160/320 for 199290 train path examples\n",
      "379    - number of taxi id's routes with 335 greater than length 26!\n",
      "257    - number of taxi id's routes with 180 greater than length 33!\n",
      "677    - number of taxi id's routes with 254 greater than length 46!\n",
      "358    - number of taxi id's routes with 284 greater than length 25!\n",
      "286    - number of taxi id's routes with 87 greater than length 48!\n",
      "381    - number of taxi id's routes with 353 greater than length 20!\n",
      "415    - number of taxi id's routes with 66 greater than length 60!\n",
      "400    - number of taxi id's routes with 0 greater than length 369!\n",
      "all paths filtered out!  resorting to random search again!\n",
      "522    - number of taxi id's routes with 449 greater than length 19!\n",
      "612    - number of taxi id's routes with 611 greater than length 3!\n",
      "454    - number of taxi id's routes with 446 greater than length 8!\n",
      "350    - number of taxi id's routes with 50 greater than length 72!\n",
      "312    - number of taxi id's routes with 38 greater than length 71!\n",
      "1067    - number of taxi id's routes with 790 greater than length 17!\n",
      "878    - number of taxi id's routes with 36 greater than length 110!\n",
      "325    - number of taxi id's routes with 320 greater than length 2!\n",
      "684    - number of taxi id's routes with 676 greater than length 3!\n",
      "361    - number of taxi id's routes with 51 greater than length 79!\n",
      "494    - number of taxi id's routes with 466 greater than length 7!\n",
      "303    - number of taxi id's routes with 75 greater than length 57!\n",
      "180/320 for 199290 train path examples\n",
      "427    - number of taxi id's routes with 330 greater than length 25!\n",
      "629    - number of taxi id's routes with 214 greater than length 57!\n",
      "860    - number of taxi id's routes with 842 greater than length 7!\n",
      "779    - number of taxi id's routes with 544 greater than length 30!\n",
      "347    - number of taxi id's routes with 340 greater than length 8!\n",
      "370    - number of taxi id's routes with 204 greater than length 34!\n",
      "no taxi ids found for 20000121\n",
      "337    - number of taxi id's routes with 255 greater than length 27!\n",
      "192    - number of taxi id's routes with 192 greater than length 6!\n",
      "691    - number of taxi id's routes with 633 greater than length 13!\n",
      "345    - number of taxi id's routes with 22 greater than length 220!\n",
      "402    - number of taxi id's routes with 380 greater than length 21!\n",
      "449    - number of taxi id's routes with 173 greater than length 45!\n",
      "395    - number of taxi id's routes with 388 greater than length 14!\n",
      "579    - number of taxi id's routes with 444 greater than length 30!\n",
      "785    - number of taxi id's routes with 322 greater than length 46!\n",
      "258    - number of taxi id's routes with 252 greater than length 12!\n",
      "528    - number of taxi id's routes with 526 greater than length 4!\n",
      "510    - number of taxi id's routes with 319 greater than length 34!\n",
      "99    - number of taxi id's routes with 0 greater than length 327!\n",
      "all paths filtered out!  resorting to random search again!\n",
      "200/320 for 199290 train path examples\n",
      "459    - number of taxi id's routes with 31 greater than length 80!\n",
      "557    - number of taxi id's routes with 0 greater than length 612!\n",
      "all paths filtered out!  resorting to random search again!\n",
      "103    - number of taxi id's routes with 101 greater than length 9!\n",
      "385    - number of taxi id's routes with 346 greater than length 19!\n",
      "392    - number of taxi id's routes with 14 greater than length 107!\n",
      "620    - number of taxi id's routes with 602 greater than length 13!\n",
      "411    - number of taxi id's routes with 260 greater than length 34!\n",
      "17    - number of taxi id's routes with 4 greater than length 43!\n",
      "707    - number of taxi id's routes with 701 greater than length 6!\n",
      "771    - number of taxi id's routes with 731 greater than length 10!\n",
      "510    - number of taxi id's routes with 14 greater than length 111!\n",
      "427    - number of taxi id's routes with 25 greater than length 84!\n",
      "357    - number of taxi id's routes with 341 greater than length 14!\n",
      "432    - number of taxi id's routes with 58 greater than length 163!\n",
      "no taxi ids found for 20000362\n",
      "607    - number of taxi id's routes with 221 greater than length 54!\n",
      "558    - number of taxi id's routes with 13 greater than length 115!\n",
      "560    - number of taxi id's routes with 8 greater than length 238!\n",
      "495    - number of taxi id's routes with 22 greater than length 94!\n",
      "686    - number of taxi id's routes with 621 greater than length 21!\n",
      "220/320 for 199290 train path examples\n",
      "477    - number of taxi id's routes with 395 greater than length 26!\n",
      "640    - number of taxi id's routes with 8 greater than length 215!\n",
      "306    - number of taxi id's routes with 244 greater than length 29!\n",
      "551    - number of taxi id's routes with 1 greater than length 361!\n",
      "330    - number of taxi id's routes with 104 greater than length 54!\n",
      "432    - number of taxi id's routes with 426 greater than length 4!\n",
      "836    - number of taxi id's routes with 382 greater than length 31!\n",
      "435    - number of taxi id's routes with 422 greater than length 18!\n",
      "699    - number of taxi id's routes with 571 greater than length 22!\n",
      "673    - number of taxi id's routes with 670 greater than length 3!\n",
      "828    - number of taxi id's routes with 683 greater than length 24!\n",
      "625    - number of taxi id's routes with 242 greater than length 36!\n",
      "382    - number of taxi id's routes with 227 greater than length 38!\n",
      "no taxi ids found for 20000185\n",
      "470    - number of taxi id's routes with 259 greater than length 38!\n",
      "445    - number of taxi id's routes with 397 greater than length 22!\n",
      "970    - number of taxi id's routes with 638 greater than length 28!\n",
      "563    - number of taxi id's routes with 544 greater than length 11!\n",
      "310    - number of taxi id's routes with 166 greater than length 37!\n",
      "529    - number of taxi id's routes with 86 greater than length 65!\n",
      "240/320 for 199290 train path examples\n",
      "337    - number of taxi id's routes with 234 greater than length 31!\n",
      "647    - number of taxi id's routes with 581 greater than length 19!\n",
      "820    - number of taxi id's routes with 738 greater than length 15!\n",
      "847    - number of taxi id's routes with 658 greater than length 23!\n",
      "560    - number of taxi id's routes with 556 greater than length 6!\n",
      "706    - number of taxi id's routes with 460 greater than length 28!\n",
      "558    - number of taxi id's routes with 60 greater than length 85!\n",
      "643    - number of taxi id's routes with 637 greater than length 5!\n",
      "562    - number of taxi id's routes with 420 greater than length 31!\n",
      "551    - number of taxi id's routes with 418 greater than length 30!\n",
      "555    - number of taxi id's routes with 368 greater than length 31!\n",
      "665    - number of taxi id's routes with 660 greater than length 5!\n",
      "371    - number of taxi id's routes with 367 greater than length 4!\n",
      "465    - number of taxi id's routes with 194 greater than length 48!\n",
      "549    - number of taxi id's routes with 122 greater than length 59!\n",
      "392    - number of taxi id's routes with 256 greater than length 33!\n",
      "691    - number of taxi id's routes with 629 greater than length 15!\n",
      "122    - number of taxi id's routes with 122 greater than length 7!\n",
      "723    - number of taxi id's routes with 441 greater than length 35!\n",
      "581    - number of taxi id's routes with 575 greater than length 5!\n",
      "260/320 for 199290 train path examples\n",
      "476    - number of taxi id's routes with 464 greater than length 15!\n",
      "410    - number of taxi id's routes with 377 greater than length 19!\n",
      "901    - number of taxi id's routes with 849 greater than length 15!\n",
      "823    - number of taxi id's routes with 439 greater than length 38!\n",
      "844    - number of taxi id's routes with 350 greater than length 45!\n",
      "705    - number of taxi id's routes with 694 greater than length 8!\n",
      "598    - number of taxi id's routes with 536 greater than length 19!\n",
      "735    - number of taxi id's routes with 731 greater than length 8!\n",
      "no taxi ids found for 20000079\n",
      "799    - number of taxi id's routes with 424 greater than length 35!\n",
      "737    - number of taxi id's routes with 170 greater than length 71!\n",
      "711    - number of taxi id's routes with 603 greater than length 22!\n",
      "619    - number of taxi id's routes with 615 greater than length 2!\n",
      "770    - number of taxi id's routes with 105 greater than length 63!\n",
      "700    - number of taxi id's routes with 542 greater than length 20!\n",
      "752    - number of taxi id's routes with 724 greater than length 17!\n",
      "635    - number of taxi id's routes with 624 greater than length 12!\n",
      "699    - number of taxi id's routes with 686 greater than length 8!\n",
      "619    - number of taxi id's routes with 609 greater than length 6!\n",
      "600    - number of taxi id's routes with 517 greater than length 22!\n",
      "280/320 for 199290 train path examples\n",
      "201    - number of taxi id's routes with 200 greater than length 3!\n",
      "477    - number of taxi id's routes with 465 greater than length 7!\n",
      "701    - number of taxi id's routes with 678 greater than length 3!\n",
      "415    - number of taxi id's routes with 325 greater than length 23!\n",
      "380    - number of taxi id's routes with 366 greater than length 14!\n",
      "368    - number of taxi id's routes with 253 greater than length 33!\n",
      "296    - number of taxi id's routes with 21 greater than length 71!\n",
      "370    - number of taxi id's routes with 319 greater than length 21!\n",
      "361    - number of taxi id's routes with 170 greater than length 46!\n",
      "407    - number of taxi id's routes with 379 greater than length 19!\n",
      "348    - number of taxi id's routes with 314 greater than length 18!\n",
      "460    - number of taxi id's routes with 428 greater than length 16!\n",
      "254    - number of taxi id's routes with 203 greater than length 28!\n",
      "557    - number of taxi id's routes with 128 greater than length 53!\n",
      "248    - number of taxi id's routes with 53 greater than length 73!\n",
      "707    - number of taxi id's routes with 510 greater than length 30!\n",
      "558    - number of taxi id's routes with 551 greater than length 3!\n",
      "495    - number of taxi id's routes with 487 greater than length 10!\n",
      "644    - number of taxi id's routes with 479 greater than length 30!\n",
      "288    - number of taxi id's routes with 278 greater than length 15!\n",
      "300/320 for 199290 train path examples\n",
      "445    - number of taxi id's routes with 50 greater than length 76!\n",
      "744    - number of taxi id's routes with 372 greater than length 38!\n",
      "379    - number of taxi id's routes with 377 greater than length 4!\n",
      "122    - number of taxi id's routes with 120 greater than length 14!\n",
      "356    - number of taxi id's routes with 232 greater than length 34!\n",
      "410    - number of taxi id's routes with 325 greater than length 26!\n",
      "357    - number of taxi id's routes with 294 greater than length 26!\n",
      "662    - number of taxi id's routes with 621 greater than length 20!\n",
      "730    - number of taxi id's routes with 643 greater than length 22!\n",
      "402    - number of taxi id's routes with 342 greater than length 21!\n",
      "629    - number of taxi id's routes with 527 greater than length 25!\n",
      "818    - number of taxi id's routes with 735 greater than length 19!\n",
      "405    - number of taxi id's routes with 55 greater than length 72!\n",
      "607    - number of taxi id's routes with 227 greater than length 45!\n",
      "357    - number of taxi id's routes with 3 greater than length 267!\n",
      "500    - number of taxi id's routes with 190 greater than length 47!\n",
      "532    - number of taxi id's routes with 187 greater than length 48!\n",
      "270    - number of taxi id's routes with 14 greater than length 94!\n",
      "545    - number of taxi id's routes with 543 greater than length 6!\n",
      "417    - number of taxi id's routes with 396 greater than length 15!\n",
      "320/320 for 199290 train path examples\n",
      "556    - number of taxi id's routes with 165 greater than length 52!\n"
     ]
    },
    {
     "data": {
      "text/plain": [
       "320-element Array{Any,1}:\n",
       " 2x12 Array{Float64,2}:\n",
       " -8.58567  -8.58601  -8.58618  -8.58641  …  -8.57888  -8.57812  -8.57977\n",
       " 41.1486   41.149    41.1488   41.1477      41.1457   41.1445   41.1439  \n",
       " 2x61 Array{Float64,2}:\n",
       " -8.61078  -8.61078  -8.61034  -8.61022  …  -8.60307  -8.60139  -8.60044\n",
       " 41.1457   41.1458   41.1462   41.1463      41.1836   41.1832   41.1829  \n",
       " 2x57 Array{Float64,2}:\n",
       " -8.58567  -8.58589  -8.58612  -8.58651  …  -8.55481  -8.55429  -8.55346\n",
       " 41.1485   41.149    41.1487   41.1477      41.1812   41.1811   41.1811  \n",
       " 2x16 Array{Float64,2}:\n",
       " -8.61394  -8.6147  -8.6144  -8.61492  …  -8.61522  -8.61518  -8.61513\n",
       " 41.1412   41.1415  41.1425  41.1428      41.1467   41.1467   41.1467      \n",
       " 2x11 Array{Float64,2}:\n",
       " -8.61994  -8.61994  -8.61993  -8.62003  …  -8.61973  -8.6189  -8.61873\n",
       " 41.148    41.148    41.148    41.1479      41.1524   41.1522  41.1523    \n",
       " 2x141 Array{Float64,2}:\n",
       " -8.64465  -8.64515  -8.64402  -8.64381  …  -8.64481  -8.64479  -8.64475\n",
       " 41.1577   41.1583   41.159    41.159       41.1587   41.1586   41.1586 \n",
       " 2x25 Array{Float64,2}:\n",
       " -8.61005  -8.60996  -8.60854  -8.60576  …  -8.58614  -8.58614  -8.58614\n",
       " 41.1409   41.1409   41.1411   41.1417      41.148    41.1481   41.1481  \n",
       " 2x18 Array{Float64,2}:\n",
       " -8.58187  -8.58188  -8.58188  -8.5819  …  -8.57413  -8.57426  -8.57426\n",
       " 41.1818   41.1818   41.1818   41.1818     41.1864   41.1858   41.1858    \n",
       " 2x48 Array{Float64,2}:\n",
       " -8.61083  -8.61076  -8.61036  -8.6095  …  -8.58159  -8.57991  -8.58024\n",
       " 41.1457   41.1458   41.146    41.1465     41.1252   41.1261   41.1275    \n",
       " 2x96 Array{Float64,2}:\n",
       " -8.58557  -8.58559  -8.58559  -8.58559  …  -8.57639  -8.5764  -8.57642\n",
       " 41.1485   41.1485   41.1485   41.1485      41.1932   41.1932  41.1932    \n",
       " 2x82 Array{Float64,2}:\n",
       " -8.60707  -8.60707  -8.6071  -8.60712  …  -8.57124  -8.57069  -8.57068\n",
       " 41.1504   41.1502   41.1502  41.1502      41.1595   41.1601   41.1601    \n",
       " 2x22 Array{Float64,2}:\n",
       " -8.58572  -8.58578  -8.58632  -8.58802  …  -8.6016  -8.60393  -8.60486\n",
       " 41.1486   41.149    41.149    41.1493      41.1489  41.1494   41.1496    \n",
       " 2x8 Array{Float64,2}:\n",
       " -8.58004  -8.58087  -8.58199  -8.58479  …  -8.59039  -8.59458  -8.59657\n",
       " 41.1595   41.1594   41.1587   41.158       41.1569   41.1564   41.158    \n",
       " ⋮                                                                                                                                                                        \n",
       " 2x36 Array{Float64,2}:\n",
       " -8.60652  -8.60718  -8.60764  -8.60773  …  -8.58887  -8.58814  -8.58722\n",
       " 41.1447   41.1445   41.1438   41.1438      41.1475   41.1492   41.1491  \n",
       " 2x28 Array{Float64,2}:\n",
       " -8.63068  -8.63142  -8.63242  -8.63348  …  -8.63332  -8.63464  -8.63582\n",
       " 41.155    41.1543   41.1528   41.1513      41.1405   41.1414   41.1432  \n",
       " 2x23 Array{Float64,2}:\n",
       " -8.68929  -8.68902  -8.68793  -8.68704  …  -8.67507  -8.67508  -8.67507\n",
       " 41.1681   41.1674   41.1667   41.1651      41.1484   41.1484   41.1484  \n",
       " 2x75 Array{Float64,2}:\n",
       " -8.61089  -8.61092  -8.61082  -8.6107  …  -8.66494  -8.66553  -8.66553\n",
       " 41.1456   41.1457   41.1458   41.146      41.1618   41.1624   41.1623    \n",
       " 2x45 Array{Float64,2}:\n",
       " -8.60417  -8.60412  -8.60393  -8.60392  …  -8.57283  -8.57307  -8.57309\n",
       " 41.1611   41.1612   41.1616   41.1616      41.1421   41.1417   41.1417  \n",
       " 2x318 Array{Float64,2}:\n",
       " -8.58559  -8.58562  -8.58575  -8.58638  …  -8.58563  -8.58571  -8.58577\n",
       " 41.1485   41.1485   41.1489   41.149       41.1488   41.1488   41.1488 \n",
       " 2x49 Array{Float64,2}:\n",
       " -8.60645  -8.60645  -8.60645  -8.60645  …  -8.60181  -8.60188  -8.60188\n",
       " 41.1447   41.1447   41.1447   41.1447      41.1573   41.1573   41.1573  \n",
       " 2x55 Array{Float64,2}:\n",
       " -8.56936  -8.57016  -8.57046  -8.57162  …  -8.61579  -8.61606  -8.61614\n",
       " 41.1593   41.159    41.1602   41.1595      41.1482   41.1488   41.1488  \n",
       " 2x154 Array{Float64,2}:\n",
       " -8.60888  -8.60881  -8.60877  -8.60815  …  -8.60612  -8.60611  -8.6061\n",
       " 41.1535   41.1536   41.1536   41.1535      41.1608   41.1608   41.1609  \n",
       " 2x126 Array{Float64,2}:\n",
       " -8.6481  -8.6473  -8.64661  -8.64601  …  -8.64813  -8.64813  -8.64814\n",
       " 41.1525  41.1524  41.1533   41.1543      41.1525   41.1525   41.1525     \n",
       " 2x28 Array{Float64,2}:\n",
       " -8.56832  -8.56832  -8.56841  -8.56883  …  -8.58464  -8.58457  -8.58456\n",
       " 41.1516   41.1516   41.1516   41.1523      41.1687   41.1688   41.1688  \n",
       " 2x56 Array{Float64,2}:\n",
       " -8.5828  -8.58186  -8.58106  -8.57999  …  -8.56178  -8.56185  -8.56178\n",
       " 41.1811  41.1818   41.183    41.1841      41.2116   41.2116   41.2116    "
      ]
     },
     "execution_count": 16,
     "metadata": {},
     "output_type": "execute_result"
    }
   ],
   "source": [
    "println(\"SUBMISSION PREDICTION\")\n",
    "\n",
    "# 1. Using subset of all_train_coords and scanning it for each test example\n",
    "\n",
    "#all_train_coords = taxi_df[:COORDS][1:20]\n",
    "#all_validation_coords = taxi_validation_df[:COORDS]\n",
    "#test_guess_paths = findClosestTrainingExampleForTestSet(all_train_coords, all_validation_coords)\n",
    "#taxi_validation_df[:GUESS_PATHS] = test_guess_paths\n",
    "\n",
    "# 2. Scanning paths of same taxi\n",
    "\n",
    "\n",
    "all_train_coords = taxi_df[:COORDS]\n",
    "all_validation_coords = taxi_validation_df[:COORDS]\n",
    "test_guess_lengths = avgDTWstartDiffScore(taxi_df, taxi_validation_df, 4000, 2, 30)\n",
    "taxi_validation_df[:GUESS_NUM_COORDS] = test_guess_lengths\n"
   ]
  },
  {
   "cell_type": "code",
   "execution_count": 50,
   "metadata": {
    "collapsed": false
   },
   "outputs": [
    {
     "name": "stdout",
     "output_type": "stream",
     "text": [
      "Local prediction\n"
     ]
    },
    {
     "ename": "LoadError",
     "evalue": "avgDTWstartDiffScore not defined\nwhile loading In[50], in expression starting on line 16",
     "output_type": "error",
     "traceback": [
      "avgDTWstartDiffScore not defined\nwhile loading In[50], in expression starting on line 16",
      ""
     ]
    }
   ],
   "source": [
    "println(\"Local prediction\")\n",
    "\n",
    "#scanning subset of train paths for all test paths\n",
    "\n",
    "#all_train_coords = taxi_df[:COORDS][10000:10400]\n",
    "#test_df = tail(taxi_df, 100)\n",
    "#all_test_coords = test_df[:COORDS_TEST]\n",
    "#test_guess_paths = findClosestTrainingExampleForTestSet(all_train_coords, all_test_coords, 2)\n",
    "#test_df[:GUESS_PATHS] = test_guess_paths\n",
    "\n",
    "#looking at paths for same driver\n",
    "train_df = taxi_df[1:90000,:]\n",
    "test_df = tail(taxi_df, 10)\n",
    "test_coords = test_df[:COORDS]\n",
    "test_df[:COORDS] = test_df[:COORDS_TEST]\n",
    "test_guess_lengths = avgDTWstartDiffScore(train_df, test_df, 1000, 2, 140)\n",
    "test_df[:GUESS_NUM_COORDS] = test_guess_lengths\n",
    "test_df[:COORDS] = test_coords #change it back for scoring\n",
    "\n",
    "score_coords_guess(test_df)"
   ]
  },
  {
   "cell_type": "code",
   "execution_count": 52,
   "metadata": {
    "collapsed": false
   },
   "outputs": [
    {
     "name": "stdout",
     "output_type": "stream",
     "text": [
      "time score: 1.574925625091306\n",
      "pred: 900, actual: 660, delta error: 240\n",
      "pred: 1560, actual: 1005, delta error: 555\n",
      "pred: 0, actual: 0, delta error: 0\n",
      "pred: 345, actual: 735, delta error: -390\n",
      "pred: 240, actual: 360, delta error: -120\n",
      "pred: 255, actual: 1065, delta error: -810\n",
      "pred: 465, actual: 465, delta error: 0\n",
      "pred: 960, actual: 1005, delta error: -45\n",
      "pred: 420, actual: 540, delta error: -120\n",
      "pred: 585, actual: 360, delta error: 225\n",
      "pred: 465, actual: 615, delta error: -150\n",
      "pred: 255, actual: 480, delta error: -225\n",
      "pred: 735, actual: 1080, delta error: -345\n",
      "pred: 1065, actual: 1005, delta error: 60\n",
      "pred: 870, actual: 840, delta error: 30\n",
      "pred: 30, actual: 75, delta error: -45\n",
      "pred: 975, actual: 945, delta error: 30\n",
      "pred: 240, actual: 255, delta error: -15\n",
      "pred: 435, actual: 450, delta error: -15\n",
      "pred: 540, actual: 555, delta error: -15\n"
     ]
    }
   ],
   "source": [
    "\n",
    "\n",
    "function score_path_guess(test_df)\n",
    "    pred_paths = test_df[:GUESS_PATHS]\n",
    "    actual_paths = test_df[:COORDS]\n",
    "    pred_times = [((size(x,2)-1)*15)::Int64 for x in pred_paths]\n",
    "    actual_times = [((size(x,2)-1)*15)::Int64 for x in actual_paths]\n",
    "    score = sqrt(mean((log(max(pred_times, 660)+1)-log(actual_times+1)).^2))\n",
    "    println(\"time score: \", score) \n",
    "    for k=1:length(pred_times)\n",
    "        println(\"pred: \", pred_times[k], \", actual: \", actual_times[k], \", delta error: \", pred_times[k]-actual_times[k])\n",
    "    end\n",
    "end\n",
    "\n",
    "function score_coords_guess(test_df)\n",
    "    pred_num_coords = test_df[:GUESS_NUM_COORDS]\n",
    "    actual_paths = test_df[:COORDS]\n",
    "    pred_times = [((x-1)*15)::Int64 for x in pred_num_coords]\n",
    "    actual_times = [((size(x,2)-1)*15)::Int64 for x in actual_paths]\n",
    "    score = sqrt(mean((log(max(pred_times, 660)+1)-log(actual_times+1)).^2))\n",
    "    println(\"time score: \", score) \n",
    "    for k=1:length(pred_times)\n",
    "        println(\"pred: \", pred_times[k], \", actual: \", actual_times[k], \", delta error: \", pred_times[k]-actual_times[k])\n",
    "    end\n",
    "end\n",
    "\n",
    "\n",
    "score_path_guess(test_df)\n"
   ]
  },
  {
   "cell_type": "code",
   "execution_count": 126,
   "metadata": {
    "collapsed": false
   },
   "outputs": [
    {
     "data": {
      "text/plain": [
       "1x3 Array{Float64,2}:\n",
       " 0.0  0.693147  1.09861"
      ]
     },
     "execution_count": 126,
     "metadata": {},
     "output_type": "execute_result"
    }
   ],
   "source": [
    "log([1 2 3])"
   ]
  },
  {
   "cell_type": "code",
   "execution_count": 17,
   "metadata": {
    "collapsed": false
   },
   "outputs": [
    {
     "name": "stdout",
     "output_type": "stream",
     "text": [
      "121:  guessing 990 but existing time is 1080\n",
      "126:  guessing 8220 but existing time is 11610\n",
      "152:  guessing 30 but existing time is 300\n",
      "167:  guessing 3450 but existing time is 11070\n",
      "186:  guessing 30 but existing time is 60\n",
      "199:  guessing 1200 but existing time is 9810\n",
      "201:  guessing 1350 but existing time is 18360\n",
      "214:  guessing 390 but existing time is 510\n"
     ]
    },
    {
     "data": {
      "text/plain": [
       "18360"
      ]
     },
     "execution_count": 17,
     "metadata": {},
     "output_type": "execute_result"
    }
   ],
   "source": [
    "#taxi_validation_df[:GUESS_PATHS] = test_guess_paths\n",
    "\n",
    "#guess_times = [length(x)*15 for x in test_guess_paths]\n",
    "num_test_examples = length(test_guess_paths)\n",
    "\n",
    "guess_times = Array(Int64, num_test_examples)\n",
    "dest_coords = cell(num_test_examples)\n",
    "\n",
    "all_test_paths = taxi_validation_df[:COORDS]\n",
    "test_guess_paths = taxi_validation_df[:GUESS_PATHS]\n",
    "for k=1:num_test_examples\n",
    "    test_path = all_test_paths[k]\n",
    "    best_guess_path = test_guess_paths[k]\n",
    "    \n",
    "    test_path_time = length(test_path)*15\n",
    "    best_guess_time = length(best_guess_path)*15\n",
    "    \n",
    "    if test_path_time > best_guess_time\n",
    "        println(k, \":  guessing \", best_guess_time, \" but existing time is \", test_path_time)\n",
    "        #best_guess_time = test_path_time + 100\n",
    "    end\n",
    "    guess_times[k] = max(test_path_time, best_guess_time)\n",
    "end\n",
    "\n",
    "submission_validation = guess_times"
   ]
  },
  {
   "cell_type": "code",
   "execution_count": 174,
   "metadata": {
    "collapsed": false
   },
   "outputs": [
    {
     "data": {
      "text/plain": [
       "23"
      ]
     },
     "execution_count": 174,
     "metadata": {},
     "output_type": "execute_result"
    }
   ],
   "source": [
    "size(taxi_df[:COORDS][1],2)"
   ]
  },
  {
   "cell_type": "markdown",
   "metadata": {
    "collapsed": false
   },
   "source": [
    "#Generating Submission"
   ]
  },
  {
   "cell_type": "code",
   "execution_count": 18,
   "metadata": {
    "collapsed": false
   },
   "outputs": [],
   "source": [
    "# beat the benchmark example\n",
    "#mean_time = mean(times_validation)\n",
    "#submission_validation = [max(x, mean_time) for x in times_validation]\n",
    "\n",
    "#submission_validation\n",
    "\n",
    "df_submission = DataFrame()\n",
    "df_submission[:TRIP_ID] = taxi_validation_df[:TRIP_ID]\n",
    "df_submission[:TRAVEL_TIME] = submission_validation\n",
    "writetable(\"7th_submission_DTW_START_DIFF.csv\", df_submission)"
   ]
  },
  {
   "cell_type": "code",
   "execution_count": 27,
   "metadata": {
    "collapsed": false
   },
   "outputs": [],
   "source": [
    "lats = [float(x[2,end])::Float64 for x in taxi_validation_df[:GUESS_PATHS]]\n",
    "lons = [float(x[1,end])::Float64 for x in taxi_validation_df[:GUESS_PATHS]]\n",
    "\n",
    "df_submission = DataFrame()\n",
    "df_submission[:TRIP_ID] = taxi_validation_df[:TRIP_ID]\n",
    "df_submission[:LATITUDE] = lats\n",
    "df_submission[:LONGITUDE] = lons\n",
    "writetable(\"1th_sub_endpoint_DTW_START_DIFF.csv\", df_submission)"
   ]
  },
  {
   "cell_type": "code",
   "execution_count": 388,
   "metadata": {
    "collapsed": false
   },
   "outputs": [
    {
     "data": {
      "text/plain": [
       "true"
      ]
     },
     "execution_count": 388,
     "metadata": {},
     "output_type": "execute_result"
    }
   ],
   "source": [
    "immutable Point2{T}\n",
    "  x::T\n",
    "  y::T\n",
    "end\n",
    "\n",
    "D = [Point2(1.,2.) => 42]\n",
    "haskey(D, Point2(1., 2.))  #False!\n"
   ]
  },
  {
   "cell_type": "code",
   "execution_count": 42,
   "metadata": {
    "collapsed": false
   },
   "outputs": [
    {
     "ename": "LoadError",
     "evalue": "ArgumentError(\"setindex!(::DataFrame, ...) only broadcasts scalars, not arrays\")\nwhile loading In[42], in expression starting on line 2",
     "output_type": "error",
     "traceback": [
      "ArgumentError(\"setindex!(::DataFrame, ...) only broadcasts scalars, not arrays\")\nwhile loading In[42], in expression starting on line 2",
      "",
      " in setindex! at /home/tony/.julia/v0.3/DataFrames/src/dataframe/dataframe.jl:356",
      " in DataFrame at /home/tony/.julia/v0.3/DataFrames/src/dataframe/dataframe.jl:104"
     ]
    }
   ],
   "source": []
  },
  {
   "cell_type": "code",
   "execution_count": 39,
   "metadata": {
    "collapsed": false
   },
   "outputs": [
    {
     "data": {
      "text/plain": [
       "320-element DataArray{Any,1}:\n",
       " 2x11 Array{Float64,2}:\n",
       " -8.58568  -8.58571  -8.58568  -8.58573  …  -8.587   -8.58658  -8.58488\n",
       " 41.1485   41.1486   41.1489   41.1489      41.1475  41.1472   41.1466    \n",
       " 2x40 Array{Float64,2}:\n",
       " -8.61088  -8.61086  -8.6109  -8.61044  …  -8.60293  -8.60255  -8.60189\n",
       " 41.1456   41.1456   41.1458  41.1462      41.1628   41.1631   41.1636    \n",
       " 2x40 Array{Float64,2}:\n",
       " -8.58574  -8.58573  -8.58572  -8.58629  …  -8.57695  -8.5759  -8.5749\n",
       " 41.1486   41.1488   41.149    41.149       41.1664   41.1672  41.1677     \n",
       " 2x8 Array{Float64,2}:\n",
       " -8.61396  -8.61412  -8.61509  -8.61528  …  -8.61524  -8.61505  -8.61464\n",
       " 41.1412   41.1411   41.1409   41.1408      41.1408   41.1408   41.141    \n",
       " 2x2 Array{Float64,2}:\n",
       " -8.6199  -8.61989\n",
       " 41.148   41.148                                                                                                                \n",
       " 2x137 Array{Float64,2}:\n",
       " -8.63061  -8.63061  -8.63074  -8.63151  …  -8.62639  -8.6264  -8.62641\n",
       " 41.1782   41.1782   41.1782   41.1781      41.172    41.172   41.172    \n",
       " 2x24 Array{Float64,2}:\n",
       " -8.58562  -8.58564  -8.58592  -8.58637  …  -8.58156  -8.58181  -8.58205\n",
       " 41.1489   41.1489   41.1489   41.1489      41.1533   41.1535   41.1538  \n",
       " 2x17 Array{Float64,2}:\n",
       " -8.58292  -8.582   -8.58108  -8.58011  …  -8.57703  -8.57753  -8.57877\n",
       " 41.1811   41.1818  41.183    41.184       41.1861   41.1861   41.1852    \n",
       " 2x43 Array{Float64,2}:\n",
       " -8.60653  -8.60667  -8.6068  -8.60679  …  -8.60548  -8.60549  -8.60549\n",
       " 41.1447   41.1447   41.1447  41.1447      41.1257   41.1258   41.1258    \n",
       " 2x79 Array{Float64,2}:\n",
       " -8.58566  -8.5857  -8.58573  -8.58574  …  -8.59117  -8.58826  -8.58631\n",
       " 41.1486   41.1486  41.1486   41.1486      41.1942   41.1974   41.1993    \n",
       " 2x63 Array{Float64,2}:\n",
       " -8.59123  -8.59123  -8.59122  -8.591   …  -8.58767  -8.5881  -8.58823\n",
       " 41.1627   41.1627   41.1627   41.1626     41.1687   41.1689  41.1689      \n",
       " 2x17 Array{Float64,2}:\n",
       " -8.58569  -8.58576  -8.58571  -8.58576  …  -8.59455  -8.59592  -8.59665\n",
       " 41.1486   41.1487   41.1489   41.149       41.1507   41.1499   41.1494  \n",
       " 2x5 Array{Float64,2}:\n",
       " -8.5801  -8.58023  -8.58152  -8.58252  -8.58433\n",
       " 41.1594  41.1594   41.1593   41.1589   41.1583                                                   \n",
       " ⋮                                                                                                                                                                        \n",
       " 2x21 Array{Float64,2}:\n",
       " -8.61072  -8.61049  -8.6094  -8.6085  …  -8.59074  -8.58956  -8.58816\n",
       " 41.1445   41.1437   41.1432  41.1431     41.1469   41.1471   41.1473      \n",
       " 2x25 Array{Float64,2}:\n",
       " -8.6406  -8.64005  -8.64022  -8.63974  …  -8.63605  -8.63605  -8.63605\n",
       " 41.1549  41.1547   41.1536   41.1533      41.1405   41.1405   41.1406    \n",
       " 2x19 Array{Float64,2}:\n",
       " -8.68929  -8.6893  -8.68873  -8.68765  …  -8.678   -8.67778  -8.67773\n",
       " 41.1682   41.1682  41.1674   41.1663      41.1521  41.1517   41.1515      \n",
       " 2x72 Array{Float64,2}:\n",
       " -8.60636  -8.60636  -8.60711  -8.6073  …  -8.68831  -8.6866  -8.68486\n",
       " 41.1445   41.1446   41.1451   41.1457     41.1728   41.1734  41.1734      \n",
       " 2x45 Array{Float64,2}:\n",
       " -8.61253  -8.61253  -8.61287  -8.61289  …  -8.58566  -8.58584  -8.58584\n",
       " 41.1595   41.1595   41.1595   41.1595      41.1489   41.149    41.149   \n",
       " 2x267 Array{Float64,2}:\n",
       " -8.66747  -8.66735  -8.66717  -8.66798  …  -8.53496  -8.53497  -8.53498\n",
       " 41.2381   41.2383   41.2384   41.2387      41.1433   41.1433   41.1433 \n",
       " 2x47 Array{Float64,2}:\n",
       " -8.60647  -8.60648  -8.60649  -8.60667  …  -8.5917  -8.59579  -8.60045\n",
       " 41.1447   41.1447   41.1447   41.1448      41.1973  41.1973   41.1988    \n",
       " 2x48 Array{Float64,2}:\n",
       " -8.5702  -8.57019  -8.56947  -8.56733  …  -8.59311  -8.59333  -8.59331\n",
       " 41.1595  41.159    41.1591   41.1606      41.1511   41.151    41.1511    \n",
       " 2x94 Array{Float64,2}:\n",
       " -8.61387  -8.61388  -8.61472  -8.61584  …  -8.62978  -8.62977  -8.62979\n",
       " 41.1412   41.1412   41.1411   41.1407      41.1526   41.1526   41.1527  \n",
       " 2x6 Array{Float64,2}:\n",
       " -8.6481  -8.64746  -8.64688  -8.64593  -8.64534  -8.6433\n",
       " 41.1525  41.1524   41.1531   41.1538   41.1544   41.1543                                \n",
       " 2x15 Array{Float64,2}:\n",
       " -8.5717  -8.57058  -8.569   -8.57006  …  -8.5658  -8.56669  -8.56921\n",
       " 41.1561  41.1559   41.1555  41.1561      41.1647  41.1667   41.1676        \n",
       " 2x52 Array{Float64,2}:\n",
       " -8.57456  -8.57225  -8.57049  -8.56883  …  -8.59046  -8.59078  -8.59234\n",
       " 41.1802   41.1799   41.1795   41.1806      41.1978   41.1952   41.1922  "
      ]
     },
     "execution_count": 39,
     "metadata": {},
     "output_type": "execute_result"
    }
   ],
   "source": [
    "taxi_validation_df[:COORDS]"
   ]
  },
  {
   "cell_type": "code",
   "execution_count": null,
   "metadata": {
    "collapsed": true
   },
   "outputs": [],
   "source": []
  }
 ],
 "metadata": {
  "kernelspec": {
   "display_name": "Julia 0.3.7",
   "language": "julia",
   "name": "julia 0.3"
  },
  "language_info": {
   "name": "julia",
   "version": "0.3.7"
  }
 },
 "nbformat": 4,
 "nbformat_minor": 0
}
